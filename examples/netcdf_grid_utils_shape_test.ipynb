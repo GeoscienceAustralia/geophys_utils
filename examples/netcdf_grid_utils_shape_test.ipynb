{
 "cells": [
  {
   "cell_type": "code",
   "execution_count": null,
   "metadata": {},
   "outputs": [],
   "source": [
    "%matplotlib inline"
   ]
  },
  {
   "cell_type": "code",
   "execution_count": 1,
   "metadata": {},
   "outputs": [],
   "source": [
    "import os\n",
    "import netCDF4\n",
    "import numpy as np\n",
    "from geophys_utils import NetCDFGridUtils\n",
    "from geophys_utils import get_netcdf_edge_points, points2convex_hull\n",
    "import matplotlib.pyplot as plt\n",
    "from shapely.geometry import shape, Polygon, MultiPolygon, asMultiPoint"
   ]
  },
  {
   "cell_type": "code",
   "execution_count": 2,
   "metadata": {},
   "outputs": [],
   "source": [
    "def convert_coords_to_pixels(points, netcdf_grid_utils):\n",
    "    pixel_indices = np.array(points)\n",
    "    pixel_indices = (pixel_indices - np.array([netcdf_grid_utils.bounds[0], netcdf_grid_utils.bounds[1]]))\n",
    "    pixel_indices = (pixel_indices / \n",
    "              (np.array(netcdf_grid_utils.pixel_size))).astype(np.int64)\n",
    "    pixel_indices[:,1] = netcdf_grid_utils.pixel_count[1] - pixel_indices[:,1]\n",
    "    return pixel_indices"
   ]
  },
  {
   "cell_type": "code",
   "execution_count": 3,
   "metadata": {},
   "outputs": [],
   "source": [
    "# Setup proxy as required\n",
    "GA_STAFF_WIFI = False\n",
    "\n",
    "if GA_STAFF_WIFI:\n",
    "    os.environ['http_proxy'] = 'http://proxy.inno.lan:3128'\n",
    "    os.environ['https_proxy'] = 'http://proxy.inno.lan:3128'    "
   ]
  },
  {
   "cell_type": "code",
   "execution_count": 4,
   "metadata": {},
   "outputs": [
    {
     "name": "stdout",
     "output_type": "stream",
     "text": [
      "https://dapds00.nci.org.au//thredds/dodsC/iv65/Geoscience_Australia_Geophysics_Reference_Data_Collection/national_geophysical_compilations/Gravmap2019/Gravmap2019-grid-grv_cscba_1vd.nc\n"
     ]
    }
   ],
   "source": [
    "# Open netCDF4 Dataset\n",
    "netcdf_path = \"/iv65/Geoscience_Australia_Geophysics_Reference_Data_Collection/national_geophysical_compilations/Gravmap2019/Gravmap2019-grid-grv_cscba_1vd.nc\"\n",
    "if not os.path.isfile(netcdf_path):\n",
    "    netcdf_path = \"https://dapds00.nci.org.au//thredds/dodsC/iv65/Geoscience_Australia_Geophysics_Reference_Data_Collection/national_geophysical_compilations/Gravmap2019/Gravmap2019-grid-grv_cscba_1vd.nc\"\n",
    "\n",
    "#netcdf_path = \"/g/data2/uc0/rr2_dev/axi547/IR_gravity_anomaly_Australia_V1_inverted.nc\"\n",
    "#if not os.path.isfile(netcdf_path):\n",
    "#netcdf_path = \"http://dapds00.nci.org.au/thredds/dodsC/uc0/rr2_dev/axi547/IR_gravity_anomaly_Australia_V1_inverted.nc\"\n",
    "\n",
    "#netcdf_path = \"/g/data1/rr2/National_Coverages/magmap_v6_2015/magmap_v6_2015.nc\"\n",
    "#if not os.path.isfile(netcdf_path):\n",
    "#    netcdf_path = \"http://dapds00.nci.org.au/thredds/dodsC/rr2/National_Coverages/magmap_v6_2015/magmap_v6_2015.nc\"\n",
    "#    netcdf_path = \"http://dapds03.nci.org.au/thredds/dodsC/rr2/National_Coverages/magmap_v6_2015/magmap_v6_2015.nc\"\n",
    "print(netcdf_path)\n",
    "netcdf_dataset = netCDF4.Dataset(netcdf_path, 'r')\n",
    "\n",
    "max_bytes = 500000000\n",
    "#max_bytes = 8000000000\n",
    "\n",
    "netcdf_grid_utils = NetCDFGridUtils(netcdf_dataset)\n",
    "#netcdf_grid_utils.__dict__"
   ]
  },
  {
   "cell_type": "code",
   "execution_count": 5,
   "metadata": {},
   "outputs": [
    {
     "name": "stdout",
     "output_type": "stream",
     "text": [
      "(92144, 2)\n"
     ]
    }
   ],
   "source": [
    "# Find edge points\n",
    "edge_points = get_netcdf_edge_points(netcdf_dataset, max_bytes=max_bytes)\n",
    "print(edge_points.shape)"
   ]
  },
  {
   "cell_type": "code",
   "execution_count": 6,
   "metadata": {},
   "outputs": [
    {
     "name": "stdout",
     "output_type": "stream",
     "text": [
      "(9, 2)\n"
     ]
    }
   ],
   "source": [
    "# Compute convex hull\n",
    "# Note that we would normally use netcdf2convex_hull to go straight to the convex hull, but we want to plot the edge points\n",
    "avg_pixel_size = (netcdf_grid_utils.pixel_size[0] + netcdf_grid_utils.pixel_size[1]) / 2.0\n",
    "convex_hull = np.array(points2convex_hull(edge_points, avg_pixel_size, avg_pixel_size))\n",
    "print(convex_hull.shape)"
   ]
  },
  {
   "cell_type": "code",
   "execution_count": 7,
   "metadata": {},
   "outputs": [
    {
     "name": "stdout",
     "output_type": "stream",
     "text": [
      "buffer dstaince: 672\n"
     ]
    },
    {
     "ename": "TypeError",
     "evalue": "'bool' object is not subscriptable",
     "output_type": "error",
     "traceback": [
      "\u001b[1;31m---------------------------------------------------------------------------\u001b[0m",
      "\u001b[1;31mTypeError\u001b[0m                                 Traceback (most recent call last)",
      "\u001b[1;32m<ipython-input-7-acdf8dec3ad7>\u001b[0m in \u001b[0;36m<module>\u001b[1;34m\u001b[0m\n\u001b[0;32m      1\u001b[0m \u001b[1;31m# Compute concave hull\u001b[0m\u001b[1;33m\u001b[0m\u001b[1;33m\u001b[0m\u001b[1;33m\u001b[0m\u001b[0m\n\u001b[1;32m----> 2\u001b[1;33m \u001b[0mconcave_hull\u001b[0m \u001b[1;33m=\u001b[0m \u001b[0mnetcdf_grid_utils\u001b[0m\u001b[1;33m.\u001b[0m\u001b[0mget_concave_hull\u001b[0m\u001b[1;33m(\u001b[0m\u001b[1;33m)\u001b[0m\u001b[1;33m\u001b[0m\u001b[1;33m\u001b[0m\u001b[0m\n\u001b[0m\u001b[0;32m      3\u001b[0m \u001b[0mconcave_hull\u001b[0m\u001b[1;33m\u001b[0m\u001b[1;33m\u001b[0m\u001b[0m\n",
      "\u001b[1;32mC:\\W10Dev\\Continuum\\anaconda3\\envs\\geophys_utils\\lib\\site-packages\\geophys_utils\\_netcdf_grid_utils.py\u001b[0m in \u001b[0;36mget_concave_hull\u001b[1;34m(self, to_wkt, buffer_distance, offset, tolerance, cap_style, join_style, max_polygons, max_vertices)\u001b[0m\n\u001b[0;32m    554\u001b[0m         \u001b[0mlogger\u001b[0m\u001b[1;33m.\u001b[0m\u001b[0mdebug\u001b[0m\u001b[1;33m(\u001b[0m\u001b[1;34m'Computing padded mask'\u001b[0m\u001b[1;33m)\u001b[0m\u001b[1;33m\u001b[0m\u001b[1;33m\u001b[0m\u001b[0m\n\u001b[0;32m    555\u001b[0m         \u001b[0mpadded_mask\u001b[0m \u001b[1;33m=\u001b[0m \u001b[0mnp\u001b[0m\u001b[1;33m.\u001b[0m\u001b[0mzeros\u001b[0m\u001b[1;33m(\u001b[0m\u001b[0mshape\u001b[0m\u001b[1;33m=\u001b[0m\u001b[1;33m[\u001b[0m\u001b[0mint\u001b[0m\u001b[1;33m(\u001b[0m\u001b[0mceil\u001b[0m\u001b[1;33m(\u001b[0m\u001b[0msize\u001b[0m \u001b[1;33m/\u001b[0m \u001b[0mdownsampling_stride\u001b[0m\u001b[1;33m)\u001b[0m\u001b[1;33m)\u001b[0m\u001b[1;33m+\u001b[0m\u001b[1;36m2\u001b[0m \u001b[1;32mfor\u001b[0m \u001b[0msize\u001b[0m \u001b[1;32min\u001b[0m \u001b[0mself\u001b[0m\u001b[1;33m.\u001b[0m\u001b[0mdata_variable\u001b[0m\u001b[1;33m.\u001b[0m\u001b[0mshape\u001b[0m\u001b[1;33m]\u001b[0m\u001b[1;33m,\u001b[0m \u001b[0mdtype\u001b[0m\u001b[1;33m=\u001b[0m\u001b[0mnp\u001b[0m\u001b[1;33m.\u001b[0m\u001b[0mbool\u001b[0m\u001b[1;33m)\u001b[0m\u001b[1;33m\u001b[0m\u001b[1;33m\u001b[0m\u001b[0m\n\u001b[1;32m--> 556\u001b[1;33m         \u001b[0mpadded_mask\u001b[0m\u001b[1;33m[\u001b[0m\u001b[1;36m1\u001b[0m\u001b[1;33m:\u001b[0m\u001b[1;33m-\u001b[0m\u001b[1;36m1\u001b[0m\u001b[1;33m,\u001b[0m\u001b[1;36m1\u001b[0m\u001b[1;33m:\u001b[0m\u001b[1;33m-\u001b[0m\u001b[1;36m1\u001b[0m\u001b[1;33m]\u001b[0m \u001b[1;33m=\u001b[0m \u001b[1;33m(\u001b[0m\u001b[0mself\u001b[0m\u001b[1;33m.\u001b[0m\u001b[0mdata_variable\u001b[0m \u001b[1;33m!=\u001b[0m \u001b[0mself\u001b[0m\u001b[1;33m.\u001b[0m\u001b[0mdata_variable\u001b[0m\u001b[1;33m.\u001b[0m\u001b[0m_FillValue\u001b[0m\u001b[1;33m)\u001b[0m\u001b[1;33m[\u001b[0m\u001b[0mmask_slices\u001b[0m\u001b[1;33m]\u001b[0m \u001b[1;31m# It's quicker to read all data and mask afterwards\u001b[0m\u001b[1;33m\u001b[0m\u001b[1;33m\u001b[0m\u001b[0m\n\u001b[0m\u001b[0;32m    557\u001b[0m \u001b[1;33m\u001b[0m\u001b[0m\n\u001b[0;32m    558\u001b[0m         \u001b[0mdata_proportion\u001b[0m \u001b[1;33m=\u001b[0m \u001b[0mnp\u001b[0m\u001b[1;33m.\u001b[0m\u001b[0mcount_nonzero\u001b[0m\u001b[1;33m(\u001b[0m\u001b[0mpadded_mask\u001b[0m\u001b[1;33m[\u001b[0m\u001b[1;36m1\u001b[0m\u001b[1;33m:\u001b[0m\u001b[1;33m-\u001b[0m\u001b[1;36m1\u001b[0m\u001b[1;33m,\u001b[0m\u001b[1;36m1\u001b[0m\u001b[1;33m:\u001b[0m\u001b[1;33m-\u001b[0m\u001b[1;36m1\u001b[0m\u001b[1;33m]\u001b[0m\u001b[1;33m)\u001b[0m \u001b[1;33m/\u001b[0m \u001b[1;33m(\u001b[0m\u001b[1;33m(\u001b[0m\u001b[0mpadded_mask\u001b[0m\u001b[1;33m.\u001b[0m\u001b[0mshape\u001b[0m\u001b[1;33m[\u001b[0m\u001b[1;36m0\u001b[0m\u001b[1;33m]\u001b[0m\u001b[1;33m-\u001b[0m\u001b[1;36m2\u001b[0m\u001b[1;33m)\u001b[0m\u001b[1;33m*\u001b[0m\u001b[1;33m(\u001b[0m\u001b[0mpadded_mask\u001b[0m\u001b[1;33m.\u001b[0m\u001b[0mshape\u001b[0m\u001b[1;33m[\u001b[0m\u001b[1;36m1\u001b[0m\u001b[1;33m]\u001b[0m\u001b[1;33m-\u001b[0m\u001b[1;36m2\u001b[0m\u001b[1;33m)\u001b[0m\u001b[1;33m)\u001b[0m\u001b[1;33m\u001b[0m\u001b[1;33m\u001b[0m\u001b[0m\n",
      "\u001b[1;31mTypeError\u001b[0m: 'bool' object is not subscriptable"
     ]
    }
   ],
   "source": [
    "# Compute concave hull\n",
    "concave_hull = netcdf_grid_utils.get_concave_hull()\n",
    "concave_hull"
   ]
  },
  {
   "cell_type": "code",
   "execution_count": null,
   "metadata": {},
   "outputs": [],
   "source": [
    "# Plot data points\n",
    "plt.figure(figsize=(30,20))    \n",
    "plt.imshow(netcdf_grid_utils.data_variable[:], cmap='Spectral_r')\n",
    "\n",
    "pixel_indices = convert_coords_to_pixels(edge_points, netcdf_grid_utils)\n",
    "plt.plot(pixel_indices[:,0], pixel_indices[:,1], 'b.')\n",
    "pixel_indices = convert_coords_to_pixels(convex_hull, netcdf_grid_utils)\n",
    "plt.plot(pixel_indices[:,0], pixel_indices[:,1], 'r-')\n",
    "\n",
    "if type(concave_hull) == MultiPolygon:\n",
    "    for polygon in concave_hull:\n",
    "        pixel_indices = convert_coords_to_pixels(polygon.exterior.coords, netcdf_grid_utils)\n",
    "        plt.plot(pixel_indices[:,0], pixel_indices[:,1], 'g-')\n",
    "elif type(concave_hull) == Polygon:\n",
    "    pixel_indices = convert_coords_to_pixels(concave_hull.exterior.coords, netcdf_grid_utils)\n",
    "    plt.plot(pixel_indices[:,0], pixel_indices[:,1], 'g-')\n",
    "else:\n",
    "    raise ValueError('Unexpected type of geometry: {}'.format(type(offset_geometry)))\n"
   ]
  },
  {
   "cell_type": "code",
   "execution_count": null,
   "metadata": {},
   "outputs": [],
   "source": []
  }
 ],
 "metadata": {
  "anaconda-cloud": {},
  "kernelspec": {
   "display_name": "Python 3",
   "language": "python",
   "name": "python3"
  },
  "language_info": {
   "codemirror_mode": {
    "name": "ipython",
    "version": 3
   },
   "file_extension": ".py",
   "mimetype": "text/x-python",
   "name": "python",
   "nbconvert_exporter": "python",
   "pygments_lexer": "ipython3",
   "version": "3.7.6"
  }
 },
 "nbformat": 4,
 "nbformat_minor": 1
}
