{
 "cells": [
  {
   "cell_type": "code",
   "execution_count": 8,
   "metadata": {},
   "outputs": [],
   "source": [
    "%matplotlib inline"
   ]
  },
  {
   "cell_type": "code",
   "execution_count": 9,
   "metadata": {},
   "outputs": [],
   "source": [
    "import logging\n",
    "from datetime import datetime, timedelta\n",
    "from pprint import pformat\n",
    "import matplotlib.pyplot as plt"
   ]
  },
  {
   "cell_type": "code",
   "execution_count": 10,
   "metadata": {},
   "outputs": [],
   "source": [
    "from geophys_point_fetcher import GeophysPointFetcher\n",
    "logging.getLogger('geophys_point_fetcher').setLevel(logging.DEBUG)"
   ]
  },
  {
   "cell_type": "code",
   "execution_count": 11,
   "metadata": {},
   "outputs": [],
   "source": [
    "# Setup proxy as required\n",
    "GA_STAFF_WIFI = False\n",
    "\n",
    "if GA_STAFF_WIFI:\n",
    "    import os\n",
    "    os.environ['http_proxy'] = 'http://proxy.inno.lan:3128'\n",
    "    os.environ['https_proxy'] = 'http://proxy.inno.lan:3128'"
   ]
  },
  {
   "cell_type": "code",
   "execution_count": 12,
   "metadata": {},
   "outputs": [],
   "source": [
    "def JW_metadata_filter(metadata_dict):\n",
    "    '''\n",
    "    Example function to filter datasets based on metadata values in metadata_dict\n",
    "    This version applies John Wilford's filter conditions\n",
    "    Returns True for match, False otherwise\n",
    "    '''\n",
    "    try:\n",
    "        # Reject any datasets earlier than 1981\n",
    "        if datetime.strptime(metadata_dict['acquisition_start_date'], '%d/%m/%Y') < datetime.strptime('01/01/1981', '%d/%m/%Y'):\n",
    "            return False\n",
    "            \n",
    "        # Only accept GA/BMR/AGSO datasets between 1981 and 1992\n",
    "        if (datetime.strptime(metadata_dict['acquisition_start_date'], '%d/%m/%Y') < datetime.strptime('01/01/1992', '%d/%m/%Y')\n",
    "            and metadata_dict['client'] not in ['Geoscience Australia',\n",
    "                                                'BMR',\n",
    "                                                'AGSO',\n",
    "                                                'GA'\n",
    "                                                ]\n",
    "            ):\n",
    "                return False\n",
    "    except ValueError:\n",
    "        logger.warning('WARNING: Unhandled date format: {}'.format(metadata_dict['acquisition_start_date']))\n",
    "        return False \n",
    "    \n",
    "    return True        "
   ]
  },
  {
   "cell_type": "code",
   "execution_count": 13,
   "metadata": {},
   "outputs": [
    {
     "name": "stdout",
     "output_type": "stream",
     "text": [
      "Importing metadata CSV file C:\\Users\\u62231\\PycharmProjects\\geophys_utils\\examples\\geophysics_line_nc_metadata.csv\n"
     ]
    }
   ],
   "source": [
    "# Instantiate GeophysPointFetcher\n",
    "gpf = GeophysPointFetcher()"
   ]
  },
  {
   "cell_type": "code",
   "execution_count": 14,
   "metadata": {},
   "outputs": [],
   "source": [
    "# Set search parameters\n",
    "bounding_box=(120.0, -29.0, 121, -28) # Bounding box coordinates in form \"[<min_xord>,<min_yord>,<max_xord>,<max_yord>]\"\n",
    "keywords = ['geophysics', 'TMI'] # Keywords to match\n",
    "variable_names = ['mag_awags'] # Variables to read\n",
    "flight_lines_only=True"
   ]
  },
  {
   "cell_type": "code",
   "execution_count": 15,
   "metadata": {},
   "outputs": [
    {
     "name": "stdout",
     "output_type": "stream",
     "text": [
      "Opening http://dapds00.nci.org.au/thredds/dodsC/uc0/rr2_dev/rcb547/AWAGS_Levelled_Line_Databases/awags_survey_reformat/netcdf/P1152MAG.nc\n"
     ]
    },
    {
     "ename": "AttributeError",
     "evalue": "'OSError' object has no attribute 'message'",
     "output_type": "error",
     "traceback": [
      "\u001b[1;31m---------------------------------------------------------------------------\u001b[0m",
      "\u001b[1;31mOSError\u001b[0m                                   Traceback (most recent call last)",
      "\u001b[1;32m~\\PycharmProjects\\geophys_utils\\examples\\geophys_point_fetcher.py\u001b[0m in \u001b[0;36mpoint_data_generator\u001b[1;34m(self, bounding_box, keywords, metadata_filter_function, variable_names, flight_lines_only)\u001b[0m\n\u001b[0;32m    118\u001b[0m                 \u001b[0mlogger\u001b[0m\u001b[1;33m.\u001b[0m\u001b[0minfo\u001b[0m\u001b[1;33m(\u001b[0m\u001b[1;34m'Opening {}'\u001b[0m\u001b[1;33m.\u001b[0m\u001b[0mformat\u001b[0m\u001b[1;33m(\u001b[0m\u001b[0mnc_path\u001b[0m\u001b[1;33m)\u001b[0m\u001b[1;33m)\u001b[0m\u001b[1;33m\u001b[0m\u001b[1;33m\u001b[0m\u001b[0m\n\u001b[1;32m--> 119\u001b[1;33m                 \u001b[0mnc_dataset\u001b[0m \u001b[1;33m=\u001b[0m \u001b[0mnetCDF4\u001b[0m\u001b[1;33m.\u001b[0m\u001b[0mDataset\u001b[0m\u001b[1;33m(\u001b[0m\u001b[0mnc_path\u001b[0m\u001b[1;33m,\u001b[0m \u001b[1;34m'r'\u001b[0m\u001b[1;33m)\u001b[0m\u001b[1;33m\u001b[0m\u001b[1;33m\u001b[0m\u001b[0m\n\u001b[0m\u001b[0;32m    120\u001b[0m                 \u001b[0mnetcdf_line_utils\u001b[0m \u001b[1;33m=\u001b[0m \u001b[0mNetCDFPointUtils\u001b[0m\u001b[1;33m(\u001b[0m\u001b[0mnc_dataset\u001b[0m\u001b[1;33m)\u001b[0m\u001b[1;33m\u001b[0m\u001b[1;33m\u001b[0m\u001b[0m\n",
      "\u001b[1;32mnetCDF4\\_netCDF4.pyx\u001b[0m in \u001b[0;36mnetCDF4._netCDF4.Dataset.__init__\u001b[1;34m()\u001b[0m\n",
      "\u001b[1;32mnetCDF4\\_netCDF4.pyx\u001b[0m in \u001b[0;36mnetCDF4._netCDF4._ensure_nc_success\u001b[1;34m()\u001b[0m\n",
      "\u001b[1;31mOSError\u001b[0m: [Errno -68] NetCDF: I/O failure: b'http://dapds00.nci.org.au/thredds/dodsC/uc0/rr2_dev/rcb547/AWAGS_Levelled_Line_Databases/awags_survey_reformat/netcdf/P1152MAG.nc'",
      "\nDuring handling of the above exception, another exception occurred:\n",
      "\u001b[1;31mAttributeError\u001b[0m                            Traceback (most recent call last)",
      "\u001b[1;32m<ipython-input-15-f42549ac67c9>\u001b[0m in \u001b[0;36m<module>\u001b[1;34m\u001b[0m\n\u001b[0;32m      9\u001b[0m                                              \u001b[0mmetadata_filter_function\u001b[0m\u001b[1;33m=\u001b[0m\u001b[0mJW_metadata_filter\u001b[0m\u001b[1;33m,\u001b[0m\u001b[1;33m\u001b[0m\u001b[1;33m\u001b[0m\u001b[0m\n\u001b[0;32m     10\u001b[0m                                              \u001b[0mvariable_names\u001b[0m\u001b[1;33m=\u001b[0m\u001b[0mvariable_names\u001b[0m\u001b[1;33m,\u001b[0m\u001b[1;33m\u001b[0m\u001b[1;33m\u001b[0m\u001b[0m\n\u001b[1;32m---> 11\u001b[1;33m                                              \u001b[0mflight_lines_only\u001b[0m\u001b[1;33m=\u001b[0m\u001b[0mflight_lines_only\u001b[0m\u001b[1;33m\u001b[0m\u001b[1;33m\u001b[0m\u001b[0m\n\u001b[0m\u001b[0;32m     12\u001b[0m                                              ):\n\u001b[0;32m     13\u001b[0m \u001b[1;33m\u001b[0m\u001b[0m\n",
      "\u001b[1;32m~\\PycharmProjects\\geophys_utils\\examples\\geophys_point_fetcher.py\u001b[0m in \u001b[0;36mpoint_data_generator\u001b[1;34m(self, bounding_box, keywords, metadata_filter_function, variable_names, flight_lines_only)\u001b[0m\n\u001b[0;32m    164\u001b[0m                 \u001b[1;32myield\u001b[0m \u001b[0mdataset_dict\u001b[0m\u001b[1;33m\u001b[0m\u001b[1;33m\u001b[0m\u001b[0m\n\u001b[0;32m    165\u001b[0m             \u001b[1;32mexcept\u001b[0m \u001b[0mException\u001b[0m \u001b[1;32mas\u001b[0m \u001b[0me\u001b[0m\u001b[1;33m:\u001b[0m\u001b[1;33m\u001b[0m\u001b[1;33m\u001b[0m\u001b[0m\n\u001b[1;32m--> 166\u001b[1;33m                 \u001b[0mlogger\u001b[0m\u001b[1;33m.\u001b[0m\u001b[0merror\u001b[0m\u001b[1;33m(\u001b[0m\u001b[1;34m'Failed to retrieve point data from {}: {}'\u001b[0m\u001b[1;33m.\u001b[0m\u001b[0mformat\u001b[0m\u001b[1;33m(\u001b[0m\u001b[0mnc_path\u001b[0m\u001b[1;33m,\u001b[0m \u001b[0me\u001b[0m\u001b[1;33m.\u001b[0m\u001b[0mmessage\u001b[0m\u001b[1;33m)\u001b[0m\u001b[1;33m)\u001b[0m\u001b[1;33m\u001b[0m\u001b[1;33m\u001b[0m\u001b[0m\n\u001b[0m\u001b[0;32m    167\u001b[0m \u001b[1;33m\u001b[0m\u001b[0m\n\u001b[0;32m    168\u001b[0m         \u001b[1;31m#=======================================================================\u001b[0m\u001b[1;33m\u001b[0m\u001b[1;33m\u001b[0m\u001b[1;33m\u001b[0m\u001b[0m\n",
      "\u001b[1;31mAttributeError\u001b[0m: 'OSError' object has no attribute 'message'"
     ]
    },
    {
     "data": {
      "text/plain": [
       "<Figure size 2160x2160 with 0 Axes>"
      ]
     },
     "metadata": {},
     "output_type": "display_data"
    }
   ],
   "source": [
    "# Plot data points\n",
    "plt.figure(figsize=(30,30))\n",
    "\n",
    "point_step = 200 # Step between points in plots: 1=plot every point, 2=plot every second point, etc.\n",
    "\n",
    "# Find all nearest points using above parameters\n",
    "for dataset_dict in gpf.point_data_generator(bounding_box=bounding_box,\n",
    "                                             keywords=keywords,\n",
    "                                             metadata_filter_function=JW_metadata_filter,\n",
    "                                             variable_names=variable_names,\n",
    "                                             flight_lines_only=flight_lines_only\n",
    "                                             ):\n",
    "    \n",
    "    #print(pformat(dataset_dict))\n",
    "    coordinates = dataset_dict['coordinates']\n",
    "    # Only show one in every point_step points\n",
    "    plt.plot(coordinates[:,0][0:-1:point_step], coordinates[:,1][0:-1:point_step], '.')        \n"
   ]
  },
  {
   "cell_type": "code",
   "execution_count": null,
   "metadata": {},
   "outputs": [],
   "source": []
  }
 ],
 "metadata": {
  "kernelspec": {
   "display_name": "Python 3",
   "language": "python",
   "name": "python3"
  },
  "language_info": {
   "codemirror_mode": {
    "name": "ipython",
    "version": 3
   },
   "file_extension": ".py",
   "mimetype": "text/x-python",
   "name": "python",
   "nbconvert_exporter": "python",
   "pygments_lexer": "ipython3",
   "version": "3.7.4"
  }
 },
 "nbformat": 4,
 "nbformat_minor": 2
}
