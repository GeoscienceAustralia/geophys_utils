{
 "cells": [
  {
   "cell_type": "code",
   "execution_count": 1,
   "metadata": {},
   "outputs": [],
   "source": [
    "%matplotlib inline"
   ]
  },
  {
   "cell_type": "code",
   "execution_count": 2,
   "metadata": {},
   "outputs": [],
   "source": [
    "import logging\n",
    "from datetime import datetime, timedelta"
   ]
  },
  {
   "cell_type": "code",
   "execution_count": 3,
   "metadata": {},
   "outputs": [],
   "source": [
    "from nearest_geophys_point_finder import NearestGeophysPointFinder\n",
    "logging.getLogger('nearest_geophys_point_finder').setLevel(logging.DEBUG)"
   ]
  },
  {
   "cell_type": "code",
   "execution_count": 4,
   "metadata": {},
   "outputs": [],
   "source": [
    "# Setup proxy as required\n",
    "GA_STAFF_WIFI = False\n",
    "\n",
    "if GA_STAFF_WIFI:\n",
    "    import os\n",
    "    os.environ['http_proxy'] = 'http://proxy.inno.lan:3128'\n",
    "    os.environ['https_proxy'] = 'http://proxy.inno.lan:3128'"
   ]
  },
  {
   "cell_type": "code",
   "execution_count": 5,
   "metadata": {},
   "outputs": [],
   "source": [
    "def JW_metadata_filter(metadata_dict):\n",
    "    '''\n",
    "    Example function to filter datasets based on metadata values in metadata_dict\n",
    "    This version applies John Wilford's filter conditions\n",
    "    Returns True for match, False otherwise\n",
    "    '''\n",
    "    try:\n",
    "        # Reject any datasets earlier than 1981\n",
    "        if datetime.strptime(metadata_dict['acquisition_start_date'], '%d/%m/%Y') < datetime.strptime('01/01/1981', '%d/%m/%Y'):\n",
    "            return False\n",
    "            \n",
    "        # Only accept GA/BMR/AGSO datasets between 1981 and 1992\n",
    "        if (datetime.strptime(metadata_dict['acquisition_start_date'], '%d/%m/%Y') < datetime.strptime('01/01/1992', '%d/%m/%Y')\n",
    "            and metadata_dict['client'] not in ['Geoscience Australia',\n",
    "                                                'BMR',\n",
    "                                                'AGSO',\n",
    "                                                'GA'\n",
    "                                                ]\n",
    "            ):\n",
    "                return False\n",
    "    except ValueError:\n",
    "        logger.warning('WARNING: Unhandled date format: {}'.format(metadata_dict['acquisition_start_date']))\n",
    "        return False \n",
    "    \n",
    "    return True        "
   ]
  },
  {
   "cell_type": "code",
   "execution_count": 6,
   "metadata": {},
   "outputs": [
    {
     "name": "stdout",
     "output_type": "stream",
     "text": [
      "Importing metadata CSV file C:\\Users\\u62231\\PycharmProjects\\geophys_utils\\examples\\geophysics_line_nc_metadata.csv\n"
     ]
    }
   ],
   "source": [
    "# Instantiate NearestGeophysPointFinder\n",
    "ngpf = NearestGeophysPointFinder()"
   ]
  },
  {
   "cell_type": "code",
   "execution_count": 7,
   "metadata": {},
   "outputs": [],
   "source": [
    "# Set search parameters\n",
    "coordinate_list=[(149, -35), (150, -36)] # List of coordinates to search\n",
    "max_distance=0.2 # Maximum search radius in dataset native units (i.e. degrees)\n",
    "points_required=10 # Points per dataset\n",
    "keywords = ['geophysics', 'TMI'] # Keywords to match\n",
    "variable_names = ['mag_awags'] # Variables to read\n",
    "flight_lines_only=True"
   ]
  },
  {
   "cell_type": "code",
   "execution_count": 8,
   "metadata": {},
   "outputs": [
    {
     "name": "stdout",
     "output_type": "stream",
     "text": [
      "Opening http://dapds00.nci.org.au/thredds/dodsC/uc0/rr2_dev/rcb547/AWAGS_Levelled_Line_Databases/awags_survey_reformat/netcdf/P1152MAG.nc\n"
     ]
    },
    {
     "ename": "AttributeError",
     "evalue": "'OSError' object has no attribute 'message'",
     "output_type": "error",
     "traceback": [
      "\u001b[1;31m---------------------------------------------------------------------------\u001b[0m",
      "\u001b[1;31mOSError\u001b[0m                                   Traceback (most recent call last)",
      "\u001b[1;32m~\\PycharmProjects\\geophys_utils\\examples\\nearest_geophys_point_finder.py\u001b[0m in \u001b[0;36mget_nearest_point_data\u001b[1;34m(self, coordinate_list, points_required, max_distance, keywords, metadata_filter_function, variable_names, flight_lines_only)\u001b[0m\n\u001b[0;32m    134\u001b[0m                 \u001b[0mlogger\u001b[0m\u001b[1;33m.\u001b[0m\u001b[0minfo\u001b[0m\u001b[1;33m(\u001b[0m\u001b[1;34m'Opening {}'\u001b[0m\u001b[1;33m.\u001b[0m\u001b[0mformat\u001b[0m\u001b[1;33m(\u001b[0m\u001b[0mnc_path\u001b[0m\u001b[1;33m)\u001b[0m\u001b[1;33m)\u001b[0m\u001b[1;33m\u001b[0m\u001b[1;33m\u001b[0m\u001b[0m\n\u001b[1;32m--> 135\u001b[1;33m                 \u001b[0mnc_dataset\u001b[0m \u001b[1;33m=\u001b[0m \u001b[0mnetCDF4\u001b[0m\u001b[1;33m.\u001b[0m\u001b[0mDataset\u001b[0m\u001b[1;33m(\u001b[0m\u001b[0mnc_path\u001b[0m\u001b[1;33m,\u001b[0m \u001b[1;34m'r'\u001b[0m\u001b[1;33m)\u001b[0m\u001b[1;33m\u001b[0m\u001b[1;33m\u001b[0m\u001b[0m\n\u001b[0m\u001b[0;32m    136\u001b[0m                 \u001b[0mnetcdf_line_utils\u001b[0m \u001b[1;33m=\u001b[0m \u001b[0mNetCDFPointUtils\u001b[0m\u001b[1;33m(\u001b[0m\u001b[0mnc_dataset\u001b[0m\u001b[1;33m)\u001b[0m\u001b[1;33m\u001b[0m\u001b[1;33m\u001b[0m\u001b[0m\n",
      "\u001b[1;32mnetCDF4\\_netCDF4.pyx\u001b[0m in \u001b[0;36mnetCDF4._netCDF4.Dataset.__init__\u001b[1;34m()\u001b[0m\n",
      "\u001b[1;32mnetCDF4\\_netCDF4.pyx\u001b[0m in \u001b[0;36mnetCDF4._netCDF4._ensure_nc_success\u001b[1;34m()\u001b[0m\n",
      "\u001b[1;31mOSError\u001b[0m: [Errno -68] NetCDF: I/O failure: b'http://dapds00.nci.org.au/thredds/dodsC/uc0/rr2_dev/rcb547/AWAGS_Levelled_Line_Databases/awags_survey_reformat/netcdf/P1152MAG.nc'",
      "\nDuring handling of the above exception, another exception occurred:\n",
      "\u001b[1;31mAttributeError\u001b[0m                            Traceback (most recent call last)",
      "\u001b[1;32m<ipython-input-8-4b38f8b186b0>\u001b[0m in \u001b[0;36m<module>\u001b[1;34m\u001b[0m\n\u001b[0;32m      6\u001b[0m                                          \u001b[0mmetadata_filter_function\u001b[0m\u001b[1;33m=\u001b[0m\u001b[0mJW_metadata_filter\u001b[0m\u001b[1;33m,\u001b[0m\u001b[1;33m\u001b[0m\u001b[1;33m\u001b[0m\u001b[0m\n\u001b[0;32m      7\u001b[0m                                          \u001b[0mvariable_names\u001b[0m\u001b[1;33m=\u001b[0m\u001b[0mvariable_names\u001b[0m\u001b[1;33m,\u001b[0m\u001b[1;33m\u001b[0m\u001b[1;33m\u001b[0m\u001b[0m\n\u001b[1;32m----> 8\u001b[1;33m                                          \u001b[0mflight_lines_only\u001b[0m\u001b[1;33m=\u001b[0m\u001b[0mflight_lines_only\u001b[0m\u001b[1;33m\u001b[0m\u001b[1;33m\u001b[0m\u001b[0m\n\u001b[0m\u001b[0;32m      9\u001b[0m                                          )\n",
      "\u001b[1;32m~\\PycharmProjects\\geophys_utils\\examples\\nearest_geophys_point_finder.py\u001b[0m in \u001b[0;36mget_nearest_point_data\u001b[1;34m(self, coordinate_list, points_required, max_distance, keywords, metadata_filter_function, variable_names, flight_lines_only)\u001b[0m\n\u001b[0;32m    181\u001b[0m                         \u001b[0mlogger\u001b[0m\u001b[1;33m.\u001b[0m\u001b[0minfo\u001b[0m\u001b[1;33m(\u001b[0m\u001b[1;34m'No points near {} found in {}'\u001b[0m\u001b[1;33m.\u001b[0m\u001b[0mformat\u001b[0m\u001b[1;33m(\u001b[0m\u001b[0mcoordinate\u001b[0m\u001b[1;33m,\u001b[0m \u001b[0mnc_path\u001b[0m\u001b[1;33m)\u001b[0m\u001b[1;33m)\u001b[0m\u001b[1;33m\u001b[0m\u001b[1;33m\u001b[0m\u001b[0m\n\u001b[0;32m    182\u001b[0m             \u001b[1;32mexcept\u001b[0m \u001b[0mException\u001b[0m \u001b[1;32mas\u001b[0m \u001b[0me\u001b[0m\u001b[1;33m:\u001b[0m\u001b[1;33m\u001b[0m\u001b[1;33m\u001b[0m\u001b[0m\n\u001b[1;32m--> 183\u001b[1;33m                 \u001b[0mlogger\u001b[0m\u001b[1;33m.\u001b[0m\u001b[0merror\u001b[0m\u001b[1;33m(\u001b[0m\u001b[1;34m'Failed to retrieve point data from {}: {}'\u001b[0m\u001b[1;33m.\u001b[0m\u001b[0mformat\u001b[0m\u001b[1;33m(\u001b[0m\u001b[0mnc_path\u001b[0m\u001b[1;33m,\u001b[0m \u001b[0me\u001b[0m\u001b[1;33m.\u001b[0m\u001b[0mmessage\u001b[0m\u001b[1;33m)\u001b[0m\u001b[1;33m)\u001b[0m\u001b[1;33m\u001b[0m\u001b[1;33m\u001b[0m\u001b[0m\n\u001b[0m\u001b[0;32m    184\u001b[0m \u001b[1;33m\u001b[0m\u001b[0m\n\u001b[0;32m    185\u001b[0m         \u001b[1;31m# Sort results by ascending distance for each point\u001b[0m\u001b[1;33m\u001b[0m\u001b[1;33m\u001b[0m\u001b[1;33m\u001b[0m\u001b[0m\n",
      "\u001b[1;31mAttributeError\u001b[0m: 'OSError' object has no attribute 'message'"
     ]
    }
   ],
   "source": [
    "# Find all nearest points using above parameters\n",
    "point_result_dict = ngpf.get_nearest_point_data(coordinate_list=coordinate_list,\n",
    "                                         points_required=points_required, \n",
    "                                         max_distance=max_distance,\n",
    "                                         keywords=keywords,\n",
    "                                         metadata_filter_function=JW_metadata_filter,\n",
    "                                         variable_names=variable_names,\n",
    "                                         flight_lines_only=flight_lines_only\n",
    "                                         )"
   ]
  },
  {
   "cell_type": "code",
   "execution_count": 9,
   "metadata": {},
   "outputs": [
    {
     "name": "stdout",
     "output_type": "stream",
     "text": [
      "A total of 50 valid points were found near (149, -35) in 5 datasets\n",
      "A total of 30 valid points were found near (150, -36) in 3 datasets\n"
     ]
    }
   ],
   "source": [
    "# Count points and datasets\n",
    "for coordinate in sorted(point_result_dict.keys()):\n",
    "    point_list = point_result_dict[coordinate]\n",
    "    dataset_set = set()\n",
    "    for point_dict in point_list:\n",
    "        if set(variable_names) < set(point_dict.keys()): # Only count results with all required variables\n",
    "            dataset_set.add(point_dict['file_path'])\n",
    "    print('A total of {} valid points were found near {} in {} datasets'.format(len(point_list), coordinate, len(dataset_set)))"
   ]
  },
  {
   "cell_type": "code",
   "execution_count": 10,
   "metadata": {},
   "outputs": [
    {
     "name": "stdout",
     "output_type": "stream",
     "text": [
      "search_coordinate\tcoordinate\tdistance\tmag_awags\tsurvey_id\tclient\ttitle\n",
      "(149, -35)\t(148.932424, -34.977558)\t5.234500931190665e-05\t45.779987\t650\tAGSO\tGoulburn, NSW, 1996\n",
      "(149, -35)\t(148.93251, -34.977554)\t5.8008620044722445e-05\t45.910854\t650\tAGSO\tGoulburn, NSW, 1996\n",
      "(149, -35)\t(148.932338, -34.977562)\t0.00012713772061180662\t45.746773\t650\tAGSO\tGoulburn, NSW, 1996\n",
      "(149, -35)\t(148.932595, -34.97755)\t0.00013439121996190135\t46.133034\t650\tAGSO\tGoulburn, NSW, 1996\n",
      "(149, -35)\t(148.932252, -34.977566)\t0.00020934421415168972\t45.827816\t650\tAGSO\tGoulburn, NSW, 1996\n",
      "(149, -35)\t(148.932681, -34.977547)\t0.00021656638704725954\t46.45287\t650\tAGSO\tGoulburn, NSW, 1996\n",
      "(149, -35)\t(148.9999858, -35.0002253)\t0.00022574704870455172\t-13.487463\t1253\tGSNSW\tMurrumbateman, NSW, 2010 Detailed Airborne Survey\n",
      "(149, -35)\t(149.0000453, -35.0002258)\t0.00023029921841410015\t-13.352302\t1253\tGSNSW\tMurrumbateman, NSW, 2010 Detailed Airborne Survey\n",
      "(149, -35)\t(148.9999263, -35.0002247)\t0.0002364778636549526\t-13.634345\t1253\tGSNSW\tMurrumbateman, NSW, 2010 Detailed Airborne Survey\n",
      "(149, -35)\t(149.0001049, -35.0002263)\t0.00024943075191303545\t-13.232768\t1253\tGSNSW\tMurrumbateman, NSW, 2010 Detailed Airborne Survey\n",
      "(150, -36)\t(150.00003051757812, -35.99985122773137)\t0.00015187004473602385\t-176.70369\t746\tNSW Dept of Mineral Resources\tBatemans Bay-Narooma, NSW, 1998\n",
      "(150, -36)\t(149.9999542236328, -35.99985122773137)\t0.00015565559323837752\t-176.67152\t746\tNSW Dept of Mineral Resources\tBatemans Bay-Narooma, NSW, 1998\n",
      "(150, -36)\t(150.00010681152344, -35.9998588571259)\t0.00017700285999970456\t-176.75105\t746\tNSW Dept of Mineral Resources\tBatemans Bay-Narooma, NSW, 1998\n",
      "(150, -36)\t(149.9998779296875, -35.99985122773137)\t0.0001924431061569992\t-176.63153\t746\tNSW Dept of Mineral Resources\tBatemans Bay-Narooma, NSW, 1998\n",
      "(150, -36)\t(150.00018310546878, -35.9998588571259)\t0.0002311902325047513\t-176.78712\t746\tNSW Dept of Mineral Resources\tBatemans Bay-Narooma, NSW, 1998\n",
      "(150, -36)\t(149.9998016357422, -35.999839783639565)\t0.00025498560925750144\t-176.60002\t746\tNSW Dept of Mineral Resources\tBatemans Bay-Narooma, NSW, 1998\n",
      "(150, -36)\t(150.00025939941406, -35.9998588571259)\t0.00029531232098407905\t-176.83101\t746\tNSW Dept of Mineral Resources\tBatemans Bay-Narooma, NSW, 1998\n",
      "(150, -36)\t(149.99972534179688, -35.99983978363957)\t0.0003179723426534015\t-176.55614\t746\tNSW Dept of Mineral Resources\tBatemans Bay-Narooma, NSW, 1998\n",
      "(150, -36)\t(150.00033569335938, -35.9998588571259)\t0.00036415840294782203\t-176.871\t746\tNSW Dept of Mineral Resources\tBatemans Bay-Narooma, NSW, 1998\n",
      "(150, -36)\t(149.99964904785156, -35.999828339547776)\t0.00039068493873040214\t-176.52461\t746\tNSW Dept of Mineral Resources\tBatemans Bay-Narooma, NSW, 1998\n"
     ]
    }
   ],
   "source": [
    "# Print results in tab-delimited format\n",
    "field_list = ['search_coordinate', 'coordinate', 'distance'] + variable_names + ['survey_id', 'client', 'title']\n",
    "\n",
    "print('\\t'.join(field_list))\n",
    "for coordinate in sorted(point_result_dict.keys()):\n",
    "    point_list = point_result_dict[coordinate]\n",
    "    for point_dict in point_list[0:points_required]:\n",
    "        point_dict['search_coordinate'] = coordinate\n",
    "        if set(variable_names) < set(point_dict.keys()): # Only show results with all required variables\n",
    "            print('\\t'.join([str(point_dict.get(field)) \n",
    "                             for field in field_list]))"
   ]
  },
  {
   "cell_type": "code",
   "execution_count": null,
   "metadata": {},
   "outputs": [],
   "source": []
  }
 ],
 "metadata": {
  "kernelspec": {
   "display_name": "Python 3",
   "language": "python",
   "name": "python3"
  },
  "language_info": {
   "codemirror_mode": {
    "name": "ipython",
    "version": 3
   },
   "file_extension": ".py",
   "mimetype": "text/x-python",
   "name": "python",
   "nbconvert_exporter": "python",
   "pygments_lexer": "ipython3",
   "version": "3.7.6"
  }
 },
 "nbformat": 4,
 "nbformat_minor": 2
}
