{
 "cells": [
  {
   "cell_type": "code",
   "execution_count": 1,
   "metadata": {},
   "outputs": [],
   "source": [
    "%matplotlib inline"
   ]
  },
  {
   "cell_type": "code",
   "execution_count": 2,
   "metadata": {},
   "outputs": [],
   "source": [
    "import os\n",
    "import netCDF4\n",
    "import numpy as np\n",
    "import math\n",
    "from scipy.interpolate import griddata\n",
    "import matplotlib.pyplot as plt\n",
    "import gc\n",
    "import re\n",
    "from collections import OrderedDict\n",
    "from geophys_utils import NetCDFGridUtils\n",
    "from geophys_utils import NetCDFLineUtils\n",
    "from geophys_utils import get_gdal_wcs_dataset, get_gdal_grid_values\n",
    "from geophys_utils import get_spatial_ref_from_wkt, get_coordinate_transformation, get_utm_wkt, transform_coords\n",
    "from geophys_utils._transect_utils import line_length, point_along_line, utm_coords, coords2distance, sample_transect"
   ]
  },
  {
   "cell_type": "code",
   "execution_count": 3,
   "metadata": {},
   "outputs": [],
   "source": [
    "# Setup proxy as required\n",
    "GA_STAFF_WIFI = False\n",
    "\n",
    "if GA_STAFF_WIFI:\n",
    "    os.environ['http_proxy'] = 'http://proxy.inno.lan:3128'\n",
    "    os.environ['https_proxy'] = 'http://proxy.inno.lan:3128'"
   ]
  },
  {
   "cell_type": "code",
   "execution_count": 4,
   "metadata": {},
   "outputs": [],
   "source": [
    "aem_nc_path = '/g/data2/uc0/rr2_dev/rcb547/AEM_examples/AUS_10008_WestK_LCI.nc'\n",
    "if not os.path.isfile(aem_nc_path):\n",
    "    aem_nc_path = 'http://dapds00.nci.org.au/thredds/dodsC/uc0/rr2_dev/rcb547/AEM_examples/AUS_10008_WestK_LCI.nc'"
   ]
  },
  {
   "cell_type": "code",
   "execution_count": 5,
   "metadata": {},
   "outputs": [],
   "source": [
    "aem_nc_dataset = netCDF4.Dataset(aem_nc_path + '#fillmismatch') # Note work-around for bad _FillValue: https://github.com/Unidata/netcdf-c/issues/1299"
   ]
  },
  {
   "cell_type": "code",
   "execution_count": 6,
   "metadata": {},
   "outputs": [
    {
     "data": {
      "text/plain": [
       "'GEOGCS[\"GDA94\",DATUM[\"Geocentric_Datum_of_Australia_1994\",SPHEROID[\"GRS 1980\",6378137,298.257222101,AUTHORITY[\"EPSG\",\"7019\"]],TOWGS84[0,0,0,0,0,0,0],AUTHORITY[\"EPSG\",\"6283\"]],PRIMEM[\"Greenwich\",0,AUTHORITY[\"EPSG\",\"8901\"]],UNIT[\"degree\",0.0174532925199433,AUTHORITY[\"EPSG\",\"9122\"]],AUTHORITY[\"EPSG\",\"4283\"]]'"
      ]
     },
     "execution_count": 6,
     "metadata": {},
     "output_type": "execute_result"
    }
   ],
   "source": [
    "# The CRS definition in the file is INCORRECT in the test file! It specifies degrees, not metres.\n",
    "bad_wkt = get_spatial_ref_from_wkt(aem_nc_dataset.variables['crs'].epsg_code).ExportToWkt()\n",
    "bad_wkt"
   ]
  },
  {
   "cell_type": "code",
   "execution_count": 7,
   "metadata": {},
   "outputs": [
    {
     "data": {
      "text/plain": [
       "'PROJCS[\"UTM Zone 51, Southern Hemisphere\",GEOGCS[\"WGS 84\",DATUM[\"WGS_1984\",SPHEROID[\"WGS 84\",6378137,298.257223563,AUTHORITY[\"EPSG\",\"7030\"]],AUTHORITY[\"EPSG\",\"6326\"]],PRIMEM[\"Greenwich\",0,AUTHORITY[\"EPSG\",\"8901\"]],UNIT[\"degree\",0.0174532925199433,AUTHORITY[\"EPSG\",\"9122\"]],AUTHORITY[\"EPSG\",\"4326\"]],PROJECTION[\"Transverse_Mercator\"],PARAMETER[\"latitude_of_origin\",0],PARAMETER[\"central_meridian\",123],PARAMETER[\"scale_factor\",0.9996],PARAMETER[\"false_easting\",500000],PARAMETER[\"false_northing\",10000000],UNIT[\"Meter\",1]]'"
      ]
     },
     "execution_count": 7,
     "metadata": {},
     "output_type": "execute_result"
    }
   ],
   "source": [
    "# Get the WKT for the right CRS - we will use this later for the netCDF transverse_mercator attribute\n",
    "utm_wkt = get_utm_wkt((123.4, -18.01), 'EPSG:4326') # Coordinate in area of interest read from Google Earth\n",
    "utm_wkt"
   ]
  },
  {
   "cell_type": "code",
   "execution_count": 8,
   "metadata": {},
   "outputs": [
    {
     "data": {
      "text/plain": [
       "206189"
      ]
     },
     "execution_count": 8,
     "metadata": {},
     "output_type": "execute_result"
    }
   ],
   "source": [
    "point_count = aem_nc_dataset.variables['point'].shape[0]\n",
    "point_count"
   ]
  },
  {
   "cell_type": "code",
   "execution_count": 9,
   "metadata": {},
   "outputs": [
    {
     "data": {
      "text/plain": [
       "30"
      ]
     },
     "execution_count": 9,
     "metadata": {},
     "output_type": "execute_result"
    }
   ],
   "source": [
    "layer_count = aem_nc_dataset.variables['layers'].shape[0]\n",
    "layer_count"
   ]
  },
  {
   "cell_type": "code",
   "execution_count": 10,
   "metadata": {},
   "outputs": [
    {
     "name": "stdout",
     "output_type": "stream",
     "text": [
      "(206189, 30)\n",
      "(206189, 30, 3)\n",
      "(5119594,)\n",
      "(5119594, 3)\n"
     ]
    }
   ],
   "source": [
    "# Create array of 3D coordinate triples for all points\n",
    "point_conductivity = aem_nc_dataset.variables['layer_conductivity_masked'][...].filled(np.NaN)\n",
    "print(point_conductivity.shape)\n",
    "\n",
    "coordinates = np.ones(shape=(point_count, layer_count, 3), \n",
    "                      dtype=aem_nc_dataset.variables['easting'].dtype) * np.NaN\n",
    "\n",
    "for layer_index in range(layer_count):\n",
    "    coordinates[:,layer_index,0] = aem_nc_dataset.variables['easting'][...]\n",
    "    coordinates[:,layer_index,1] = aem_nc_dataset.variables['northing'][...]\n",
    "\n",
    "coordinates[:,:,2] = aem_nc_dataset.variables['layer_top_elevation'][...]\n",
    "\n",
    "print(coordinates.shape)\n",
    "\n",
    "good_data_mask = ~np.isnan(point_conductivity)\n",
    "point_conductivity = point_conductivity[good_data_mask].copy() # Discard empty values and flatten array\n",
    "coordinates = coordinates[good_data_mask,:].copy() # Discard empty values and flatten array\n",
    "del good_data_mask\n",
    "gc.collect()\n",
    "\n",
    "print(point_conductivity.shape)\n",
    "print(coordinates.shape)"
   ]
  },
  {
   "cell_type": "code",
   "execution_count": 11,
   "metadata": {},
   "outputs": [
    {
     "name": "stdout",
     "output_type": "stream",
     "text": [
      "[[ 5.54800e+05  8.01350e+05]\n",
      " [ 7.94201e+06  8.13143e+06]\n",
      " [-5.10000e+02  2.50000e+02]]\n"
     ]
    }
   ],
   "source": [
    "# Compute overall x, y & z ranges of overall volume\n",
    "ranges = np.array(((math.floor(min(coordinates[:,0]) / 10.0) * 10.0, \n",
    "                   math.ceil(max(coordinates[:,0]) / 10.0) * 10.0),\n",
    "                  (math.floor(min(coordinates[:,1]) / 10.0) * 10.0, \n",
    "                   math.ceil(max(coordinates[:,1]) / 10.0) * 10.0),\n",
    "                  (math.floor(min(coordinates[:,2]) / 10.0) * 10.0, \n",
    "                   math.ceil(max(coordinates[:,2]) / 10.0) * 10.0)))\n",
    "print(ranges)"
   ]
  },
  {
   "cell_type": "code",
   "execution_count": 12,
   "metadata": {},
   "outputs": [
    {
     "name": "stdout",
     "output_type": "stream",
     "text": [
      "[ 6.78075e+05  8.03672e+06 -1.30000e+02]\n"
     ]
    }
   ],
   "source": [
    "# Compute centre coordinates of overall volume\n",
    "centres = np.array([(ranges[dim_index,0] + ranges[dim_index,1]) / 2.0 for dim_index in range(3)])\n",
    "print(centres)"
   ]
  },
  {
   "cell_type": "code",
   "execution_count": 13,
   "metadata": {},
   "outputs": [
    {
     "data": {
      "text/plain": [
       "array([[ 6.73075e+05,  6.83075e+05],\n",
       "       [ 8.03172e+06,  8.04172e+06],\n",
       "       [-5.10000e+02,  2.50000e+02]])"
      ]
     },
     "execution_count": 13,
     "metadata": {},
     "output_type": "execute_result"
    }
   ],
   "source": [
    "# Compute x, y & z grid ranges for area of interest 10km x 10km centred on overall centre\n",
    "xysize = 10000.0\n",
    "grid_ranges = np.array(((centres[0]-xysize/2.0, centres[0]+xysize/2.0), \n",
    "               (centres[1]-xysize/2.0, centres[1]+xysize/2.0),\n",
    "               (ranges[2,0], ranges[2,1])))\n",
    "grid_ranges"
   ]
  },
  {
   "cell_type": "code",
   "execution_count": 14,
   "metadata": {},
   "outputs": [
    {
     "name": "stdout",
     "output_type": "stream",
     "text": [
      "5119594\n",
      "1610920\n",
      "155609\n",
      "112059\n",
      "12042\n"
     ]
    }
   ],
   "source": [
    "# Create mask to exclude points outside area of interest\n",
    "spatial_mask = np.ones(shape=(coordinates.shape[0],), dtype=bool)\n",
    "print(np.count_nonzero(spatial_mask))\n",
    "spatial_mask[np.where(coordinates[:,0] < grid_ranges[0,0])] = False\n",
    "print(np.count_nonzero(spatial_mask))\n",
    "spatial_mask[np.where(coordinates[:,0] > grid_ranges[0,1])] = False\n",
    "print(np.count_nonzero(spatial_mask))\n",
    "spatial_mask[np.where(coordinates[:,1] < grid_ranges[1,0])] = False\n",
    "print(np.count_nonzero(spatial_mask))\n",
    "spatial_mask[np.where(coordinates[:,1] > grid_ranges[1,1])] = False\n",
    "print(np.count_nonzero(spatial_mask))"
   ]
  },
  {
   "cell_type": "code",
   "execution_count": 15,
   "metadata": {},
   "outputs": [],
   "source": [
    "# Set horizontal (xy) & vertical (z) resolution\n",
    "xyres = 100.0 # 100m/pixel horizontally\n",
    "zres = 10.0 # 10m/pixel vertically"
   ]
  },
  {
   "cell_type": "code",
   "execution_count": 16,
   "metadata": {},
   "outputs": [
    {
     "data": {
      "text/plain": [
       "array([[ 6.73075e+05,  6.83075e+05],\n",
       "       [ 8.03172e+06,  8.04172e+06],\n",
       "       [-1.70000e+02,  1.10000e+02]])"
      ]
     },
     "execution_count": 16,
     "metadata": {},
     "output_type": "execute_result"
    }
   ],
   "source": [
    "# Round z ranges for grid up/down to nearest zres multiple\n",
    "grid_ranges = np.array((grid_ranges[0], grid_ranges[1], \n",
    "                        (math.floor(min(coordinates[spatial_mask][:,2]) / zres) * zres,\n",
    "                         math.ceil(max(coordinates[spatial_mask][:,2]) / zres) * zres)\n",
    "                       )\n",
    "                      )\n",
    "grid_ranges"
   ]
  },
  {
   "cell_type": "code",
   "execution_count": 17,
   "metadata": {},
   "outputs": [],
   "source": [
    "# Compute regular coordinate grids for resampling\n",
    "resampling_method = 'linear'\n",
    "\n",
    "grids = tuple(np.mgrid[grid_ranges[0][0]:grid_ranges[0][1]+xyres/2.0:xyres, \n",
    "                                  grid_ranges[1][0]:grid_ranges[1][1]+xyres/2.0:xyres,\n",
    "                                  grid_ranges[2][0]:grid_ranges[2][1]+zres/2.0:zres]\n",
    "             )\n",
    "\n",
    "#print(grids)"
   ]
  },
  {
   "cell_type": "code",
   "execution_count": 18,
   "metadata": {},
   "outputs": [],
   "source": [
    "# Resample point-wise conductivity into regular 3D grid\n",
    "# This can take a little while\n",
    "conductivity_grid = griddata(coordinates[spatial_mask],\n",
    "         point_conductivity[spatial_mask],\n",
    "         grids, \n",
    "         method=resampling_method)\n",
    "#conductivity_grid"
   ]
  },
  {
   "cell_type": "code",
   "execution_count": 19,
   "metadata": {},
   "outputs": [],
   "source": [
    "# Determine all X values with data\n",
    "#x_list = sorted(list(set(np.where(~np.isnan(conductivity_grid))[0])))\n",
    "#y_list = sorted(list(set(np.where(~np.isnan(conductivity_grid))[1])))\n",
    "#z_list = sorted(list(set(np.where(~np.isnan(conductivity_grid))[2])))\n",
    "\n",
    "# Plot yz slices with log colour stretch\n",
    "#for x in x_list:\n",
    "#    plt.figure(figsize=(30,20))    \n",
    "#    plt.imshow(np.log(np.transpose(conductivity_grid[x,:,::-1])), cmap='Spectral_r')"
   ]
  },
  {
   "cell_type": "code",
   "execution_count": 20,
   "metadata": {},
   "outputs": [
    {
     "data": {
      "text/plain": [
       "[slice(13, 100, None), slice(1, 100, None), slice(1, 28, None)]"
      ]
     },
     "execution_count": 20,
     "metadata": {},
     "output_type": "execute_result"
    }
   ],
   "source": [
    "# Determine slicing to exclude no-data areas around edges\n",
    "data_mask = ~np.isnan(conductivity_grid)\n",
    "data_slices = [slice(min(np.where(data_mask)[dim_index]), max(np.where(data_mask)[dim_index])+1)\n",
    "               for dim_index in range(3)\n",
    "              ]\n",
    "data_slices"
   ]
  },
  {
   "cell_type": "code",
   "execution_count": 21,
   "metadata": {},
   "outputs": [
    {
     "data": {
      "text/plain": [
       "OrderedDict([('z',\n",
       "              array([-160., -150., -140., -130., -120., -110., -100.,  -90.,  -80.,\n",
       "                      -70.,  -60.,  -50.,  -40.,  -30.,  -20.,  -10.,    0.,   10.,\n",
       "                       20.,   30.,   40.,   50.,   60.,   70.,   80.,   90.,  100.])),\n",
       "             ('y',\n",
       "              array([8031820., 8031920., 8032020., 8032120., 8032220., 8032320.,\n",
       "                     8032420., 8032520., 8032620., 8032720., 8032820., 8032920.,\n",
       "                     8033020., 8033120., 8033220., 8033320., 8033420., 8033520.,\n",
       "                     8033620., 8033720., 8033820., 8033920., 8034020., 8034120.,\n",
       "                     8034220., 8034320., 8034420., 8034520., 8034620., 8034720.,\n",
       "                     8034820., 8034920., 8035020., 8035120., 8035220., 8035320.,\n",
       "                     8035420., 8035520., 8035620., 8035720., 8035820., 8035920.,\n",
       "                     8036020., 8036120., 8036220., 8036320., 8036420., 8036520.,\n",
       "                     8036620., 8036720., 8036820., 8036920., 8037020., 8037120.,\n",
       "                     8037220., 8037320., 8037420., 8037520., 8037620., 8037720.,\n",
       "                     8037820., 8037920., 8038020., 8038120., 8038220., 8038320.,\n",
       "                     8038420., 8038520., 8038620., 8038720., 8038820., 8038920.,\n",
       "                     8039020., 8039120., 8039220., 8039320., 8039420., 8039520.,\n",
       "                     8039620., 8039720., 8039820., 8039920., 8040020., 8040120.,\n",
       "                     8040220., 8040320., 8040420., 8040520., 8040620., 8040720.,\n",
       "                     8040820., 8040920., 8041020., 8041120., 8041220., 8041320.,\n",
       "                     8041420., 8041520., 8041620.])),\n",
       "             ('x',\n",
       "              array([674375., 674475., 674575., 674675., 674775., 674875., 674975.,\n",
       "                     675075., 675175., 675275., 675375., 675475., 675575., 675675.,\n",
       "                     675775., 675875., 675975., 676075., 676175., 676275., 676375.,\n",
       "                     676475., 676575., 676675., 676775., 676875., 676975., 677075.,\n",
       "                     677175., 677275., 677375., 677475., 677575., 677675., 677775.,\n",
       "                     677875., 677975., 678075., 678175., 678275., 678375., 678475.,\n",
       "                     678575., 678675., 678775., 678875., 678975., 679075., 679175.,\n",
       "                     679275., 679375., 679475., 679575., 679675., 679775., 679875.,\n",
       "                     679975., 680075., 680175., 680275., 680375., 680475., 680575.,\n",
       "                     680675., 680775., 680875., 680975., 681075., 681175., 681275.,\n",
       "                     681375., 681475., 681575., 681675., 681775., 681875., 681975.,\n",
       "                     682075., 682175., 682275., 682375., 682475., 682575., 682675.,\n",
       "                     682775., 682875., 682975.]))])"
      ]
     },
     "execution_count": 21,
     "metadata": {},
     "output_type": "execute_result"
    }
   ],
   "source": [
    "# Set up dimension arrays for netCDF\n",
    "dimensions = OrderedDict()\n",
    "dimensions['z'] = grids[2][0,0,:][data_slices[2]]\n",
    "dimensions['y'] = grids[1][0,:,0][data_slices[1]]\n",
    "dimensions['x'] = grids[0][:,0,0][data_slices[0]]\n",
    "dimensions"
   ]
  },
  {
   "cell_type": "code",
   "execution_count": 22,
   "metadata": {},
   "outputs": [],
   "source": [
    "# Create new NetCDF file\n",
    "nc_out_path = './conductivity_grid.nc'\n",
    "nc_output_dataset = netCDF4.Dataset(nc_out_path, mode=\"w\", clobber=True, format=aem_nc_dataset.file_format)"
   ]
  },
  {
   "cell_type": "code",
   "execution_count": 23,
   "metadata": {},
   "outputs": [],
   "source": [
    "# Create dimensions and dimension variables\n",
    "for dimension_name, dimension_values in iter(dimensions.items()):\n",
    "    nc_output_dataset.createDimension(dimname=dimension_name, size=len(dimension_values))\n",
    "\n",
    "    dimension_variable = nc_output_dataset.createVariable(dimension_name, \n",
    "                                              dimension_values.dtype, \n",
    "                                              (dimension_name,)\n",
    "                                              )\n",
    "    dimension_variable[...] = dimension_values"
   ]
  },
  {
   "cell_type": "code",
   "execution_count": 24,
   "metadata": {},
   "outputs": [
    {
     "name": "stderr",
     "output_type": "stream",
     "text": [
      "C:\\Users\\alex\\Anaconda3\\lib\\site-packages\\ipykernel_launcher.py:11: FutureWarning: Using a non-tuple sequence for multidimensional indexing is deprecated; use `arr[tuple(seq)]` instead of `arr[seq]`. In the future this will be interpreted as an array index, `arr[np.array(seq)]`, which will result either in an error or a different result.\n",
      "  # This is added back by InteractiveShellApp.init_path()\n"
     ]
    }
   ],
   "source": [
    "# Create and populate data variable\n",
    "fill_value = aem_nc_dataset.variables['layer_conductivity_masked']._FillValue\n",
    "units = aem_nc_dataset.variables['layer_conductivity_masked'].units\n",
    "\n",
    "conductivity_variable = nc_output_dataset.createVariable('conductivity',\n",
    "                                                         conductivity_grid.dtype,\n",
    "                                                         list(dimensions.keys()),\n",
    "                                                         fill_value=fill_value\n",
    "                                                         )\n",
    "                                 \n",
    "conductivity_variable[...] = conductivity_grid[data_slices].transpose() # Reverse axis order for netCDF\n",
    "conductivity_variable.units = units\n",
    "conductivity_variable.grid_mapping = \"transverse_mercator\"\n",
    "\n",
    "conductivity_variable[...][np.isnan(conductivity_variable[...])] = fill_value"
   ]
  },
  {
   "cell_type": "code",
   "execution_count": 25,
   "metadata": {},
   "outputs": [
    {
     "data": {
      "text/plain": [
       "[674325.0, 100.0, 0, 8031770.0, 0, 100.0]"
      ]
     },
     "execution_count": 25,
     "metadata": {},
     "output_type": "execute_result"
    }
   ],
   "source": [
    "# Set up GeoTransform\n",
    "# Example: transverse_mercator:GeoTransform = \"628000 1 0 6849000 0 -1 \" ;\n",
    "GeoTransform = [dimensions['x'][0] - xyres / 2,\n",
    "                xyres,\n",
    "                0,\n",
    "                dimensions['y'][0] - xyres / 2, \n",
    "                0,\n",
    "                xyres,\n",
    "               ]\n",
    "GeoTransform"
   ]
  },
  {
   "cell_type": "code",
   "execution_count": 26,
   "metadata": {},
   "outputs": [],
   "source": [
    "# Extract values from WKT and create transverse_mercator (crs) variable\n",
    "# There has to be a better way to do this!\n",
    "transverse_mercator_values = {}\n",
    "s = re.search('SPHEROID\\[\"WGS 84\",([^,]+),([^,]+),', utm_wkt)\n",
    "transverse_mercator_values['semi_major_axis'] = float(s.group(1))\n",
    "transverse_mercator_values['inverse_flattening'] = float(s.group(2))\n",
    "\n",
    "s = re.search('PARAMETER\\[\"latitude_of_origin\",([^\\]]+)\\]', utm_wkt)\n",
    "transverse_mercator_values['latitude_of_projection_origin'] = float(s.group(1))\n",
    "\n",
    "s = re.search('PARAMETER\\[\"scale_factor\",([^\\]]+)\\]', utm_wkt)\n",
    "transverse_mercator_values['scale_factor_at_central_meridian'] = float(s.group(1))\n",
    "\n",
    "s = re.search('PARAMETER\\[\"central_meridian\",([^\\]]+)\\]', utm_wkt)\n",
    "transverse_mercator_values['longitude_of_central_meridian'] = float(s.group(1))\n",
    "\n",
    "s = re.search('PARAMETER\\[\"false_northing\",([^\\]]+)\\]', utm_wkt)\n",
    "transverse_mercator_values['false_northing'] = float(s.group(1))\n",
    "\n",
    "s = re.search('PARAMETER\\[\"false_easting\",([^\\]]+)\\]', utm_wkt)\n",
    "transverse_mercator_values['false_easting'] = float(s.group(1))\n",
    "\n",
    "s = re.search('PRIMEM\\[\"Greenwich\",([^,]+),', utm_wkt)\n",
    "transverse_mercator_values['longitude_of_prime_meridian'] = float(s.group(1))\n",
    "       \n",
    "transverse_mercator_values['grid_mapping_name'] = 'transverse_mercator'\n",
    "transverse_mercator_values['spatial_ref'] = utm_wkt\n",
    "transverse_mercator_values['GeoTransform'] = ' '.join([str(value) for value in GeoTransform])\n",
    "\n",
    "transverse_mercator_variable = nc_output_dataset.createVariable('transverse_mercator',\n",
    "                                                                'i1',\n",
    "                                                                ()\n",
    "                                                                )\n",
    "\n",
    "transverse_mercator_variable.setncatts(transverse_mercator_values)"
   ]
  },
  {
   "cell_type": "code",
   "execution_count": 27,
   "metadata": {
    "scrolled": true
   },
   "outputs": [
    {
     "data": {
      "text/plain": [
       "OrderedDict([('z', <class 'netCDF4._netCDF4.Variable'>\n",
       "              float64 z(z)\n",
       "              unlimited dimensions: \n",
       "              current shape = (27,)\n",
       "              filling on, default _FillValue of 9.969209968386869e+36 used),\n",
       "             ('y', <class 'netCDF4._netCDF4.Variable'>\n",
       "              float64 y(y)\n",
       "              unlimited dimensions: \n",
       "              current shape = (99,)\n",
       "              filling on, default _FillValue of 9.969209968386869e+36 used),\n",
       "             ('x', <class 'netCDF4._netCDF4.Variable'>\n",
       "              float64 x(x)\n",
       "              unlimited dimensions: \n",
       "              current shape = (87,)\n",
       "              filling on, default _FillValue of 9.969209968386869e+36 used),\n",
       "             ('conductivity', <class 'netCDF4._netCDF4.Variable'>\n",
       "              float64 conductivity(z, y, x)\n",
       "                  _FillValue: 9.969209968386869e+36\n",
       "                  units: mS/m\n",
       "                  grid_mapping: transverse_mercator\n",
       "              unlimited dimensions: \n",
       "              current shape = (27, 99, 87)\n",
       "              filling on),\n",
       "             ('transverse_mercator', <class 'netCDF4._netCDF4.Variable'>\n",
       "              int8 transverse_mercator()\n",
       "                  semi_major_axis: 6378137.0\n",
       "                  inverse_flattening: 298.257223563\n",
       "                  latitude_of_projection_origin: 0.0\n",
       "                  scale_factor_at_central_meridian: 0.9996\n",
       "                  longitude_of_central_meridian: 123.0\n",
       "                  false_northing: 10000000.0\n",
       "                  false_easting: 500000.0\n",
       "                  longitude_of_prime_meridian: 0.0\n",
       "                  grid_mapping_name: transverse_mercator\n",
       "                  spatial_ref: PROJCS[\"UTM Zone 51, Southern Hemisphere\",GEOGCS[\"WGS 84\",DATUM[\"WGS_1984\",SPHEROID[\"WGS 84\",6378137,298.257223563,AUTHORITY[\"EPSG\",\"7030\"]],AUTHORITY[\"EPSG\",\"6326\"]],PRIMEM[\"Greenwich\",0,AUTHORITY[\"EPSG\",\"8901\"]],UNIT[\"degree\",0.0174532925199433,AUTHORITY[\"EPSG\",\"9122\"]],AUTHORITY[\"EPSG\",\"4326\"]],PROJECTION[\"Transverse_Mercator\"],PARAMETER[\"latitude_of_origin\",0],PARAMETER[\"central_meridian\",123],PARAMETER[\"scale_factor\",0.9996],PARAMETER[\"false_easting\",500000],PARAMETER[\"false_northing\",10000000],UNIT[\"Meter\",1]]\n",
       "                  GeoTransform: 674325.0 100.0 0 8031770.0 0 100.0\n",
       "              unlimited dimensions: \n",
       "              current shape = ()\n",
       "              filling on, default _FillValue of -127 ignored)])"
      ]
     },
     "execution_count": 27,
     "metadata": {},
     "output_type": "execute_result"
    }
   ],
   "source": [
    "# Check variable sizes & attributes\n",
    "nc_output_dataset.variables"
   ]
  },
  {
   "cell_type": "code",
   "execution_count": 28,
   "metadata": {},
   "outputs": [],
   "source": [
    "# Output netCDF\n",
    "nc_output_dataset.close()"
   ]
  },
  {
   "cell_type": "code",
   "execution_count": null,
   "metadata": {},
   "outputs": [],
   "source": []
  }
 ],
 "metadata": {
  "anaconda-cloud": {},
  "kernelspec": {
   "display_name": "Python 3",
   "language": "python",
   "name": "python3"
  },
  "language_info": {
   "codemirror_mode": {
    "name": "ipython",
    "version": 3
   },
   "file_extension": ".py",
   "mimetype": "text/x-python",
   "name": "python",
   "nbconvert_exporter": "python",
   "pygments_lexer": "ipython3",
   "version": "3.7.3"
  }
 },
 "nbformat": 4,
 "nbformat_minor": 1
}
