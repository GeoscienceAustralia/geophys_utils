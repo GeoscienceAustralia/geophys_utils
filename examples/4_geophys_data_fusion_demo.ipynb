{
 "cells": [
  {
   "cell_type": "code",
   "execution_count": 1,
   "metadata": {},
   "outputs": [],
   "source": [
    "%matplotlib inline"
   ]
  },
  {
   "cell_type": "code",
   "execution_count": 2,
   "metadata": {},
   "outputs": [],
   "source": [
    "import os\n",
    "import netCDF4\n",
    "import numpy as np\n",
    "from geophys_utils import NetCDFGridUtils\n",
    "from geophys_utils import NetCDFLineUtils\n",
    "from geophys_utils import get_gdal_wcs_dataset, get_gdal_grid_values # N.B: GDAL WCS won't work on Alex's Windows laptop\n",
    "import matplotlib.pyplot as plt"
   ]
  },
  {
   "cell_type": "code",
   "execution_count": 3,
   "metadata": {},
   "outputs": [],
   "source": [
    "# Setup proxy as required\n",
    "GA_STAFF_WIFI = False\n",
    "\n",
    "if GA_STAFF_WIFI:\n",
    "    os.environ['http_proxy'] = 'http://proxy.inno.lan:3128'\n",
    "    os.environ['https_proxy'] = 'http://proxy.inno.lan:3128'"
   ]
  },
  {
   "cell_type": "code",
   "execution_count": 4,
   "metadata": {},
   "outputs": [],
   "source": [
    "dem_wcs_url = 'http://services.ga.gov.au/site_9/services/DEM_SRTM_1Second_Hydro_Enforced/MapServer/WCSServer?service=WCS'\n",
    "\n",
    "line_nc_path = '/g/data2/uc0/rr2_dev/axi547/magnetic_line/GSSA_P1255MAG_Marree.nc'\n",
    "if not os.path.isfile(line_nc_path):\n",
    "    line_nc_path = 'http://dapds00.nci.org.au/thredds/dodsC/uc0/rr2_dev/axi547/magnetic_line/GSSA_P1255MAG_Marree.nc'\n",
    "\n",
    "grid_nc_path = \"/g/data1/rr2/national_geophysical_compilations/IR_gravity_anomaly_Australia_V1/IR_gravity_anomaly_Australia_V1.nc\"\n",
    "if not os.path.isfile(grid_nc_path):\n",
    "    grid_nc_path = \"http://dapds00.nci.org.au/thredds/dodsC/rr2/national_geophysical_compilations/IR_gravity_anomaly_Australia_V1/IR_gravity_anomaly_Australia_V1.nc\"\n",
    "\n",
    "bounds = (137, -29, 138, -28) # Bounding box within survey area"
   ]
  },
  {
   "cell_type": "code",
   "execution_count": null,
   "metadata": {},
   "outputs": [],
   "source": [
    "# Initialise NetCDFLineUtils object\n",
    "# Code is at https://github.com/alex-ip/geophys_utils\n",
    "line_nc_dataset = netCDF4.Dataset(line_nc_path)\n",
    "netcdf_line_utils = NetCDFLineUtils(line_nc_dataset)"
   ]
  },
  {
   "cell_type": "code",
   "execution_count": null,
   "metadata": {},
   "outputs": [
    {
     "name": "stdout",
     "output_type": "stream",
     "text": [
      "('lat', 'lon')\n",
      "[<class 'netCDF4._netCDF4.Variable'>\n",
      "float32 grav_ir_anomaly(lat, lon)\n",
      "    actual_range: [-1286.085   1207.9459]\n",
      "    units: um/s^2\n",
      "    long_name: gravity_isostatic_residual_anomaly\n",
      "    grid_mapping: crs\n",
      "    _FillValue: -99999.0\n",
      "    _ChunkSizes: [128 128]\n",
      "unlimited dimensions: \n",
      "current shape = (4182, 5717)\n",
      "filling off\n",
      "]\n"
     ]
    }
   ],
   "source": [
    "# Initialise NetCDFGridUtils object\n",
    "# Code is at https://github.com/alex-ip/geophys_utils\n",
    "grid_nc_dataset = netCDF4.Dataset(grid_nc_path)\n",
    "netcdf_grid_utils = NetCDFGridUtils(grid_nc_dataset)"
   ]
  },
  {
   "cell_type": "code",
   "execution_count": null,
   "metadata": {},
   "outputs": [],
   "source": [
    "# Open GDAL dataset for DEM WCS\n",
    "dem_gdal_dataset = get_gdal_wcs_dataset(dem_wcs_url)"
   ]
  },
  {
   "cell_type": "code",
   "execution_count": null,
   "metadata": {},
   "outputs": [
    {
     "name": "stdout",
     "output_type": "stream",
     "text": [
      "100060 {'coordinates': array([[139.52525 , -28.155075],\n",
      "       [139.525249, -28.155129],\n",
      "       [139.525248, -28.155183],\n",
      "       ...,\n",
      "       [139.504499, -29.616025],\n",
      "       [139.504498, -29.616085],\n",
      "       [139.504497, -29.616144]]), 'mag_awags': array([-97.00695 , -96.980675, -96.95639 , ..., -52.15275 , -52.166435,\n",
      "       -52.175125], dtype=float32)}\n"
     ]
    }
   ],
   "source": [
    "# Get all coordinates and data points for line 100060\n",
    "line_number, line_dict = next(netcdf_line_utils.get_lines(line_numbers=100060, variables='mag_awags'))\n",
    "print(line_number, line_dict)\n",
    "\n",
    "coordinates = line_dict['coordinates']\n",
    "mag_awags = line_dict['mag_awags']"
   ]
  },
  {
   "cell_type": "code",
   "execution_count": null,
   "metadata": {},
   "outputs": [
    {
     "name": "stdout",
     "output_type": "stream",
     "text": [
      "(25373,) [0.00000000e+00 5.98434645e+00 1.19686929e+01 ... 1.61925609e+05\n",
      " 1.61932260e+05 1.61938799e+05]\n"
     ]
    }
   ],
   "source": [
    "# Compute cumulative distances in metres for line 100060\n",
    "utm_distances = netcdf_line_utils.coords2metres(coordinates)\n",
    "print(utm_distances.shape, utm_distances)"
   ]
  },
  {
   "cell_type": "code",
   "execution_count": null,
   "metadata": {},
   "outputs": [],
   "source": [
    "# Obtain values for sample points from gridded dataset\n",
    "grid_values = np.array(netcdf_grid_utils.get_value_at_coords(coordinates, max_bytes=100))\n",
    "print(grid_values.shape, grid_values)"
   ]
  },
  {
   "cell_type": "code",
   "execution_count": null,
   "metadata": {},
   "outputs": [],
   "source": [
    "# Obtain DEM values via WCS\n",
    "dem_values = get_gdal_grid_values(dem_gdal_dataset, coordinates, netcdf_line_utils.wkt)\n",
    "print(dem_values.shape, dem_values)"
   ]
  },
  {
   "cell_type": "code",
   "execution_count": null,
   "metadata": {},
   "outputs": [],
   "source": [
    "# Plot data points against line distance for line 100060\n",
    "plt.figure(figsize=(30,20))   \n",
    "plt.plot(utm_distances, line_dict['mag_awags'], 'b-', label='AWAGS-levelled magnetic values')        \n",
    "plt.plot(utm_distances, grid_values, 'r-', label='IR gravity anomaly values')\n",
    "plt.plot(utm_distances, dem_values, 'g-', label='1 Second Hydro Enforced DEM values')\n",
    "plt.legend()"
   ]
  },
  {
   "cell_type": "code",
   "execution_count": null,
   "metadata": {},
   "outputs": [],
   "source": []
  }
 ],
 "metadata": {
  "kernelspec": {
   "display_name": "Python 3",
   "language": "python",
   "name": "python3"
  },
  "language_info": {
   "codemirror_mode": {
    "name": "ipython",
    "version": 3
   },
   "file_extension": ".py",
   "mimetype": "text/x-python",
   "name": "python",
   "nbconvert_exporter": "python",
   "pygments_lexer": "ipython3",
   "version": "3.6.8"
  }
 },
 "nbformat": 4,
 "nbformat_minor": 1
}
