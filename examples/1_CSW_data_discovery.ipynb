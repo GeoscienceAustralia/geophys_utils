{
 "cells": [
  {
   "cell_type": "code",
   "execution_count": 1,
   "metadata": {},
   "outputs": [],
   "source": [
    "# %matplotlib inline"
   ]
  },
  {
   "cell_type": "code",
   "execution_count": 1,
   "metadata": {},
   "outputs": [],
   "source": [
    "from geophys_utils import CSWUtils\n",
    "from geophys_utils import DataStats # https://github.com/alex-ip/geophys2netcdf/tree/develop\n",
    "import os\n",
    "import re\n",
    "from netCDF4 import Dataset\n",
    "from pprint import pprint"
   ]
  },
  {
   "cell_type": "code",
   "execution_count": 2,
   "metadata": {},
   "outputs": [],
   "source": [
    "# Setup proxy as required\n",
    "GA_STAFF_WIFI = False\n",
    "\n",
    "if GA_STAFF_WIFI:\n",
    "    os.environ['http_proxy'] = 'http://proxy.inno.lan:3128'\n",
    "    os.environ['https_proxy'] = 'http://proxy.inno.lan:3128'"
   ]
  },
  {
   "cell_type": "code",
   "execution_count": 3,
   "metadata": {},
   "outputs": [],
   "source": [
    "csw_url = 'https://ecat.ga.gov.au/geonetwork/srv/eng/csw' # GA's externally-facing eCat\n",
    "#csw_url = 'https://internal.ecat.ga.gov.au/geonetwork/srv/eng/csw' # GA's internally-facing eCat\n",
    "#csw_url = 'http://geonetworkrr2.nci.org.au/geonetwork/srv/eng/csw' # NCI GeoNetwork"
   ]
  },
  {
   "cell_type": "code",
   "execution_count": 4,
   "metadata": {},
   "outputs": [],
   "source": [
    "# Define search parameters\n",
    "keywords = \"NCI,grid,national geophysical compilation\" # Comma-separated list of keywords for GA\n",
    "#keywords = \"NCI, National Coverage, grid\" # Comma-separated list of keywords for NCI\n",
    "allwords = \"NCI, National Coverage, grid\"\n",
    "#bounds = [110, -45, 160, -5] # Bounding box slightly larger than national coverage\n",
    "#bounds = [115, -40, 150, -10] # Bounding box slightly smaller than national coverage\n",
    "bounds = [148.996,-35.48,149.399,-35.124] # Bounding box way smaller than national coverage\n",
    "#bounds = [110, -40, 160, -10] # Bounding box slightly wider than national coverage\n",
    "#bounds = [115, -45, 150, -5] # Bounding box slightly taller than national coverage\n",
    "#bounds = [0, 0, 1, 1] # Invalid bounding box somewhere South of England\n",
    "titlewords = \"onshore, gravity, grid, Australia, 2016\"\n",
    "#titlewords = \"Joanna,Spring,uranium,profiles\"\n",
    "not_title = '%image%'"
   ]
  },
  {
   "cell_type": "code",
   "execution_count": 5,
   "metadata": {},
   "outputs": [
    {
     "name": "stderr",
     "output_type": "stream",
     "text": [
      "Unable to open OPeNDAP URL http://dapds00.nci.org.au/thredds/dodsC/rr2/national_geophysical_compilations/radmap_v3_2015_ratio_u2t/radmap_v3_2015_ratio_u2t.nc\n",
      "Unable to open OPeNDAP URL http://dapds00.nci.org.au/thredds/dodsC/rr2/national_geophysical_compilations/radmap_v3_2015_ratio_uk/radmap_v3_2015_ratio_uk.nc\n",
      "Unable to open OPeNDAP URL http://dapds00.nci.org.au/thredds/dodsC/rr2/national_geophysical_compilations/onshore_Bouguer_offshore_Freeair_gravity_geodetic_June_2009/onshore_Bouguer_offshore_Freeair_gravity_geodetic_June_2009.nc\n",
      "Unable to open OPeNDAP URL http://dapds00.nci.org.au/thredds/dodsC/rr2/national_geophysical_compilations/radmap_v3_2015_ratio_tk/radmap_v3_2015_ratio_tk.nc\n",
      "Unable to open OPeNDAP URL http://dapds00.nci.org.au/thredds/dodsC/rr2/national_geophysical_compilations/radmap_v3_2015_ratio_ut/radmap_v3_2015_ratio_ut.nc\n",
      "Unable to open OPeNDAP URL http://dapds00.nci.org.au/thredds/dodsC/rr2/national_geophysical_compilations/radmap_v3_2015_filtered_dose/radmap_v3_2015_filtered_dose.nc\n",
      "Unable to open OPeNDAP URL http://dapds00.nci.org.au/thredds/dodsC/rr2/national_geophysical_compilations/onshore_geodetic_Spherical_Cap_Bouguer_June_2009/onshore_geodetic_Spherical_Cap_Bouguer_June_2009.nc\n",
      "Unable to open OPeNDAP URL http://dapds00.nci.org.au/thredds/dodsC/rr2/national_geophysical_compilations/radmap_v3_2015_unfiltered_ppmu/radmap_v3_2015_unfiltered_ppmu.nc\n",
      "Unable to open OPeNDAP URL http://dapds00.nci.org.au/thredds/dodsC/rr2/national_geophysical_compilations/radmap_v3_2015_filtered_ppmth/radmap_v3_2015_filtered_ppmth.nc\n",
      "Unable to open OPeNDAP URL http://dapds00.nci.org.au/thredds/dodsC/rr2/national_geophysical_compilations/radmap_v3_2015_filtered_pctk/radmap_v3_2015_filtered_pctk.nc\n",
      "Unable to open OPeNDAP URL http://dapds00.nci.org.au/thredds/dodsC/rr2/national_geophysical_compilations/radmap_v3_2015_unfiltered_ppmth/radmap_v3_2015_unfiltered_ppmth.nc\n",
      "Unable to open OPeNDAP URL http://dapds00.nci.org.au/thredds/dodsC/rr2/national_geophysical_compilations/radmap_v3_2015_unfiltered_pctk/radmap_v3_2015_unfiltered_pctk.nc\n",
      "Unable to open OPeNDAP URL http://dapds00.nci.org.au/thredds/dodsC/rr2/national_geophysical_compilations/radmap_v3_2015_unfiltered_dose/radmap_v3_2015_unfiltered_dose.nc\n",
      "Unable to open OPeNDAP URL http://dapds00.nci.org.au/thredds/dodsC/rr2/national_geophysical_compilations/magmap_v6_2015_VRTP/magmap_v6_2015_VRTP.nc\n",
      "Unable to open OPeNDAP URL http://dapds00.nci.org.au/thredds/dodsC/rr2/national_geophysical_compilations/radmap_v3_2015_filtered_ppmu/radmap_v3_2015_filtered_ppmu.nc\n",
      "Unable to open OPeNDAP URL http://dapds00.nci.org.au/thredds/dodsC/rr2/national_geophysical_compilations/onshore_geodetic_Spherical_Cap_Bouguer_2016/onshore_geodetic_Spherical_Cap_Bouguer_2016.nc\n",
      "Unable to open OPeNDAP URL http://dapds00.nci.org.au/thredds/dodsC/rr2/national_geophysical_compilations/onshore_geodetic_Complete_Bouguer_2016/onshore_geodetic_Complete_Bouguer_2016.nc\n",
      "Unable to open OPeNDAP URL http://dapds00.nci.org.au/thredds/dodsC/rr2/national_geophysical_compilations/onshore_geodetic_Isostatic_Residual_v2_2016/onshore_geodetic_Isostatic_Residual_v2_2016.nc\n",
      "Unable to open OPeNDAP URL http://dapds00.nci.org.au/thredds/dodsC/rr2/national_geophysical_compilations/magmap_v6_2015/magmap_v6_2015.nc\n",
      "Unable to open OPeNDAP URL http://dapds00.nci.org.au/thredds/dodsC/rr2/national_geophysical_compilations/IR_gravity_anomaly_Australia_V1/IR_gravity_anomaly_Australia_V1.nc\n"
     ]
    }
   ],
   "source": [
    "# Find all datasets of interest.\n",
    "#create a csw_utils object and populate the parameters with search parameters\n",
    "cswu = CSWUtils(csw_url)\n",
    "record_generator = cswu.query_csw(keyword_list=keywords,\n",
    "                                  #anytext_list=allwords,\n",
    "                                  #titleword_list=titlewords,\n",
    "                                  bounding_box=bounds,\n",
    "                                  #start_datetime=start_date,\n",
    "                                  #stop_datetime=end_date,\n",
    "                                  #max_total_records=2000\n",
    "                                  )\n",
    "\n",
    "# Access datasets and print some info\n",
    "for distribution in cswu.get_netcdf_urls(record_generator):\n",
    "    dataset = Dataset(distribution['url'])\n",
    "    data_variable = [variable for variable in dataset.variables.values() if hasattr(variable, 'grid_mapping')][0]\n",
    "    dataset_extent = [round(ordinate, 6) for ordinate in [dataset.geospatial_lon_min,\n",
    "              dataset.geospatial_lat_min,\n",
    "              dataset.geospatial_lon_max,\n",
    "              dataset.geospatial_lat_max\n",
    "             ]]\n",
    "    print('{}'.format(distribution['title']))\n",
    "    print('\\tNetCDF {}'.format(distribution['url'],))\n",
    "    print('\\tUUID {}'.format(distribution['uuid'],))\n",
    "    print('\\textent {}'.format(dataset_extent,))\n",
    "    print('\\tshape {}'.format(data_variable.shape,))"
   ]
  },
  {
   "cell_type": "code",
   "execution_count": null,
   "metadata": {},
   "outputs": [],
   "source": []
  }
 ],
 "metadata": {
  "anaconda-cloud": {},
  "kernelspec": {
   "display_name": "Python 3",
   "language": "python",
   "name": "python3"
  },
  "language_info": {
   "codemirror_mode": {
    "name": "ipython",
    "version": 3
   },
   "file_extension": ".py",
   "mimetype": "text/x-python",
   "name": "python",
   "nbconvert_exporter": "python",
   "pygments_lexer": "ipython3",
   "version": "3.7.4"
  }
 },
 "nbformat": 4,
 "nbformat_minor": 1
}
