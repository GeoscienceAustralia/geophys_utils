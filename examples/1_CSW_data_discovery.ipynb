{
 "cells": [
  {
   "cell_type": "code",
   "execution_count": 1,
   "metadata": {},
   "outputs": [],
   "source": [
    "# %matplotlib inline"
   ]
  },
  {
   "cell_type": "code",
   "execution_count": 2,
   "metadata": {},
   "outputs": [],
   "source": [
    "from geophys_utils import CSWUtils\n",
    "from geophys_utils import DataStats # https://github.com/alex-ip/geophys2netcdf/tree/develop\n",
    "import os\n",
    "import re\n",
    "from netCDF4 import Dataset\n",
    "from pprint import pprint"
   ]
  },
  {
   "cell_type": "code",
   "execution_count": 3,
   "metadata": {},
   "outputs": [],
   "source": [
    "# Setup proxy as required\n",
    "GA_STAFF_WIFI = False\n",
    "\n",
    "if GA_STAFF_WIFI:\n",
    "    os.environ['http_proxy'] = 'http://proxy.inno.lan:3128'\n",
    "    os.environ['https_proxy'] = 'http://proxy.inno.lan:3128'"
   ]
  },
  {
   "cell_type": "code",
   "execution_count": null,
   "metadata": {},
   "outputs": [],
   "source": [
    "csw_url = 'https://ecat.ga.gov.au/geonetwork/srv/eng/csw' # GA's externally-facing eCat\n",
    "#csw_url = 'https://internal.ecat.ga.gov.au/geonetwork/srv/eng/csw' # GA's internally-facing eCat\n",
    "#csw_url = 'http://geonetworkrr2.nci.org.au/geonetwork/srv/eng/csw' # NCI GeoNetwork"
   ]
  },
  {
   "cell_type": "code",
   "execution_count": 5,
   "metadata": {},
   "outputs": [],
   "source": [
    "# Define search parameters\n",
    "keywords = \"NCI,grid,national geophysical compilation\" # Comma-separated list of keywords for GA\n",
    "#keywords = \"NCI, National Coverage, grid\" # Comma-separated list of keywords for NCI\n",
    "allwords = \"NCI, National Coverage, grid\"\n",
    "#bounds = [110, -45, 160, -5] # Bounding box slightly larger than national coverage\n",
    "#bounds = [115, -40, 150, -10] # Bounding box slightly smaller than national coverage\n",
    "bounds = [148.996,-35.48,149.399,-35.124] # Bounding box way smaller than national coverage\n",
    "#bounds = [110, -40, 160, -10] # Bounding box slightly wider than national coverage\n",
    "#bounds = [115, -45, 150, -5] # Bounding box slightly taller than national coverage\n",
    "#bounds = [0, 0, 1, 1] # Invalid bounding box somewhere South of England\n",
    "titlewords = \"onshore, gravity, grid, Australia, 2016\"\n",
    "#titlewords = \"Joanna,Spring,uranium,profiles\"\n",
    "not_title = '%image%'"
   ]
  },
  {
   "cell_type": "code",
   "execution_count": 6,
   "metadata": {},
   "outputs": [
    {
     "name": "stdout",
     "output_type": "stream",
     "text": [
      "CSW Query failed: HTTPSConnectionPool(host='ecat.ga.gov.au', port=8080): Max retries exceeded with url: /geonetwork/srv/eng/csw (Caused by NewConnectionError('<urllib3.connection.VerifiedHTTPSConnection object at 0x0000000009734BE0>: Failed to establish a new connection: [WinError 10060] A connection attempt failed because the connected party did not properly respond after a period of time, or established connection failed because connected host has failed to respond',))\n",
      "CSW Query failed: HTTPSConnectionPool(host='ecat.ga.gov.au', port=8080): Max retries exceeded with url: /geonetwork/srv/eng/csw (Caused by NewConnectionError('<urllib3.connection.VerifiedHTTPSConnection object at 0x0000000009734BE0>: Failed to establish a new connection: [WinError 10060] A connection attempt failed because the connected party did not properly respond after a period of time, or established connection failed because connected host has failed to respond',))\n"
     ]
    }
   ],
   "source": [
    "# Find all datasets of interest.\n",
    "#create a csw_utils object and populate the parameters with search parameters\n",
    "cswu = CSWUtils(csw_url)\n",
    "record_generator = cswu.query_csw(keyword_list=keywords,\n",
    "                                  #anytext_list=allwords,\n",
    "                                  #titleword_list=titlewords,\n",
    "                                  bounding_box=bounds,\n",
    "                                  #start_datetime=start_date,\n",
    "                                  #stop_datetime=end_date,\n",
    "                                  #max_total_records=2000\n",
    "                                  )\n",
    "\n",
    "# Access datasets and print some info\n",
    "for distribution in cswu.get_netcdf_urls(record_generator):\n",
    "    dataset = Dataset(distribution['url'])\n",
    "    data_variable = [variable for variable in dataset.variables.values() if hasattr(variable, 'grid_mapping')][0]\n",
    "    dataset_extent = [round(ordinate, 6) for ordinate in [dataset.geospatial_lon_min,\n",
    "              dataset.geospatial_lat_min,\n",
    "              dataset.geospatial_lon_max,\n",
    "              dataset.geospatial_lat_max\n",
    "             ]]\n",
    "    print('{}'.format(distribution['title']))\n",
    "    print('\\tNetCDF {}'.format(distribution['url'],))\n",
    "    print('\\tUUID {}'.format(distribution['uuid'],))\n",
    "    print('\\textent {}'.format(dataset_extent,))\n",
    "    print('\\tshape {}'.format(data_variable.shape,))"
   ]
  },
  {
   "cell_type": "code",
   "execution_count": null,
   "metadata": {},
   "outputs": [],
   "source": []
  }
 ],
 "metadata": {
  "anaconda-cloud": {},
  "kernelspec": {
   "display_name": "Python 3",
   "language": "python",
   "name": "python3"
  },
  "language_info": {
   "codemirror_mode": {
    "name": "ipython",
    "version": 3
   },
   "file_extension": ".py",
   "mimetype": "text/x-python",
   "name": "python",
   "nbconvert_exporter": "python",
   "pygments_lexer": "ipython3",
   "version": "3.6.6"
  }
 },
 "nbformat": 4,
 "nbformat_minor": 1
}
