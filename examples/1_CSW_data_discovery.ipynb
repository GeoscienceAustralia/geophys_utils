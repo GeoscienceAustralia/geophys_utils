{
 "metadata": {
  "anaconda-cloud": {},
  "kernelspec": {
   "display_name": "Python 3 (ipykernel)",
   "language": "python",
   "name": "python3"
  },
  "language_info": {
   "codemirror_mode": {
    "name": "ipython",
    "version": 3
   },
   "file_extension": ".py",
   "mimetype": "text/x-python",
   "name": "python",
   "nbconvert_exporter": "python",
   "pygments_lexer": "ipython3",
   "version": "3.10.12"
  }
 },
 "nbformat_minor": 4,
 "nbformat": 4,
 "cells": [
  {
   "cell_type": "markdown",
   "source": "# 1. Catalogue Service for the Web (CSW) Data Discovery Demonstration\nFinds all national gravity grids from GA Catalogue",
   "metadata": {}
  },
  {
   "cell_type": "code",
   "source": "# %matplotlib inline",
   "metadata": {
    "trusted": true
   },
   "execution_count": 1,
   "outputs": []
  },
  {
   "cell_type": "code",
   "source": "from geophys_utils import CSWUtils\nfrom geophys_utils import DataStats # https://github.com/alex-ip/geophys2netcdf/tree/develop\nimport os\nimport re\nfrom netCDF4 import Dataset\nfrom pprint import pprint",
   "metadata": {
    "trusted": true
   },
   "execution_count": 2,
   "outputs": []
  },
  {
   "cell_type": "code",
   "source": "# Setup proxy as required\nGA_STAFF_WIFI = False\n\nif GA_STAFF_WIFI:\n    os.environ['http_proxy'] = 'http://proxy.inno.lan:3128'\n    os.environ['https_proxy'] = 'http://proxy.inno.lan:3128'",
   "metadata": {
    "trusted": true
   },
   "execution_count": 3,
   "outputs": []
  },
  {
   "cell_type": "code",
   "source": "csw_url = 'https://ecat.ga.gov.au/geonetwork/srv/eng/csw' # GA's externally-facing eCat\n#csw_url = 'https://internal.ecat.ga.gov.au/geonetwork/srv/eng/csw' # GA's internally-facing eCat\n#csw_url = 'http://geonetworkrr2.nci.org.au/geonetwork/srv/eng/csw' # NCI GeoNetwork",
   "metadata": {
    "trusted": true
   },
   "execution_count": 4,
   "outputs": []
  },
  {
   "cell_type": "code",
   "source": "# Define search parameters\nkeywords = \"complete, gravity, grid\" # Comma-separated list of keywords for GA catalogue to bring up national gravity grids\nallwords = \"NCI, complete, gravity, grid\"\n#bounds = [110, -45, 160, -5] # Bounding box slightly larger than national coverage\n#bounds = [115, -40, 150, -10] # Bounding box slightly smaller than national coverage\nbounds = [148.996,-35.48,149.399,-35.124] # Bounding box way smaller than national coverage\n#bounds = [110, -40, 160, -10] # Bounding box slightly wider than national coverage\n#bounds = [115, -45, 150, -5] # Bounding box slightly taller than national coverage\n#bounds = [0, 0, 1, 1] # Invalid bounding box somewhere South of England\ntitlewords = \"onshore, gravity, grid, Australia, 2016\"\nnot_title = '%image%'",
   "metadata": {
    "trusted": true
   },
   "execution_count": 5,
   "outputs": []
  },
  {
   "cell_type": "code",
   "source": "# Find all datasets of interest.\n#create a csw_utils object and populate the parameters with search parameters\ncswu = CSWUtils(csw_url)\nrecord_generator = cswu.query_csw(keyword_list=keywords,\n                                  #anytext_list=allwords,\n                                  #titleword_list=titlewords,\n                                  bounding_box=bounds,\n                                  #start_datetime=start_date,\n                                  #stop_datetime=end_date,\n                                  #max_total_records=2000\n                                  )\n\n# Access datasets and print some info\nfor distribution in cswu.get_netcdf_urls(record_generator):\n    dataset = Dataset(distribution['url'])\n    data_variable = [variable for variable in dataset.variables.values() if hasattr(variable, 'grid_mapping')][0]\n    dataset_extent = [round(ordinate, 6) for ordinate in [dataset.geospatial_lon_min,\n              dataset.geospatial_lat_min,\n              dataset.geospatial_lon_max,\n              dataset.geospatial_lat_max\n             ]]\n    print(f'{distribution[\"title\"]}')\n    print(f'\\tNetCDF {distribution[\"url\"]}')\n    print(f'\\tUUID {distribution[\"uuid\"]}')\n    print(f'\\textent {dataset_extent}')\n    print(f'\\tgrid shape {data_variable.shape}')\n    print(f'\\tkeywords {distribution[\"keywords\"]}')\n",
   "metadata": {
    "trusted": true
   },
   "execution_count": 6,
   "outputs": [
    {
     "name": "stdout",
     "text": "National Gravity Compilation 2019 includes airborne - CSCBA 0.5VD grid\n\tNetCDF https://dapds00.nci.org.au/thredds/dodsC/iv65/Geoscience_Australia_Geophysics_Reference_Data_Collection/national_geophysical_compilations/Gravmap2019/Gravmap2019-grid-grv_cscba_05vd-IncludesAirborne.nc\n\tUUID 86db5fff-e32e-41d8-b9c2-a6f4d431529e\n\textent [107.997917, -48.002083, 164.002083, -7.997917]\n\tgrid shape (9601, 13441)\n\tkeywords 05vd, Australia, B series, Bouguer, EARTH SCIENCES, Earth sciences, GADDS2.0, NCI, None, Published_External, complete, geophysical survey, geophysics, geoscientificInformation, gradiometry. Airborne, grav, gravity, grid, grid, ground digital data, marine, raster, satellite, spherical cap, survey 202008\nNational Gravity Compilation 2019 includes airborne tilt grid\n\tNetCDF https://dapds00.nci.org.au/thredds/dodsC/iv65/Geoscience_Australia_Geophysics_Reference_Data_Collection/national_geophysical_compilations/Gravmap2019/Gravmap2019-grid-grv_cscba_tilt-IncludesAirborne.nc\n\tUUID 4b91ba6f-1553-4b1e-9297-4a48d1263d65\n\textent [107.997917, -48.002083, 164.002083, -7.997917]\n\tgrid shape (9601, 13441)\n\tkeywords Australia, B series, Bouguer, EARTH SCIENCES, Earth sciences, GADDS2.0, NCI, None, Published_External, airborne, complete, digital data, geophysical survey, geophysics, geoscientificInformation, gradiometry, grav, gravity, grid, grid, marine, raster, round, satellite, spherical cap, survey 202008, tilt\nNational Gravity Compilation 2019 - CSCBA 0.5VD grid\n\tNetCDF https://dapds00.nci.org.au/thredds/dodsC/iv65/Geoscience_Australia_Geophysics_Reference_Data_Collection/national_geophysical_compilations/Gravmap2019/Gravmap2019-grid-grv_cscba_05vd.nc\n\tUUID feff54f5-bd85-4647-973f-dbc1dfece415\n\textent [107.997917, -48.002083, 164.002083, -7.997917]\n\tgrid shape (9601, 13441)\n\tkeywords 05vd, A series, Australia, Bouguer, EARTH SCIENCES, Earth sciences, GADDS2.0, NCI, None, Published_External, complete, geophysical survey, geophysics, geoscientificInformation, grav, gravity, grid, grid, ground digital data, half vertical derivative, marine, national, raster, satellite, spherical cap, survey 202008\nNational Gravity Compilation 2019 tilt grid\n\tNetCDF https://dapds00.nci.org.au/thredds/dodsC/iv65/Geoscience_Australia_Geophysics_Reference_Data_Collection/national_geophysical_compilations/Gravmap2019/Gravmap2019-grid-grv_cscba_tilt.nc\n\tUUID d15bdefa-924b-4b87-8b82-0adc5b15e20e\n\textent [107.997917, -48.002083, 164.002083, -7.997917]\n\tgrid shape (9601, 13441)\n\tkeywords A series, Australia, Bouguer, EARTH SCIENCES, Earth sciences, GADDS2.0, NCI, None, Published_External, complete, digital data, geophysical survey, geophysics, geoscientificInformation, grav, gravity, grid, grid, ground, marine, national, raster, satellite, spherical cap, survey 202008, tilt\nNational Gravity Compilation 2019 includes airborne CSCBA 1VD image\n\tNetCDF https://dapds00.nci.org.au/thredds/dodsC/iv65/Geoscience_Australia_Geophysics_Reference_Data_Collection/national_geophysical_compilations/Gravmap2019/Gravmap2019-image-gravity-grv_cscba_1vd-IncludesAirborne.nc\n\tUUID 8b86e595-140f-41d2-ac79-d03affebafa5\n\textent [107.997917, -48.002083, 164.002083, -7.997917]\n\tgrid shape (9601, 13441)\n\tkeywords 1vd, Australia, B series, Bouguer, EARTH SCIENCES, Earth sciences, GADDS2.0, NCI, None, Published_External, airborne, complete, digital data, geophysical survey, geophysics, geoscientificInformation, gradiometry, grav, gravity, grid, ground, image, image, marine, raster, satellite, spherical cap, survey 202008\nNational Gravity Compilation 2019 includes airborne  - CSCBA 0.5VD image\n\tNetCDF https://dapds00.nci.org.au/thredds/dodsC/iv65/Geoscience_Australia_Geophysics_Reference_Data_Collection/national_geophysical_compilations/Gravmap2019/Gravmap2019-image-gravity-grv_cscba_05vd-IncludesAirborne.nc\n\tUUID bfca1271-b5fe-4cda-a8b2-d9f5c1b559eb\n\textent [107.997917, -48.002083, 164.002083, -7.997917]\n\tgrid shape (9601, 13441)\n\tkeywords 05vd, Airborne, Australia, B series, Bouguer, EARTH SCIENCES, Earth sciences, GADDS2.0, NCI, None, Published_External, complete, geophysical survey, geophysics, geoscientificInformation, gradiometry, grav, gravity, grid, ground digital data, image, image, marine, raster, satellite, spherical cap, survey 202008\nNational Gravity Compilation 2019 includes airborne tilt image\n\tNetCDF https://dapds00.nci.org.au/thredds/dodsC/iv65/Geoscience_Australia_Geophysics_Reference_Data_Collection/national_geophysical_compilations/Gravmap2019/Gravmap2019-image-gravity-grv_cscba_tilt-IncludesAirborne.nc\n\tUUID bf89b910-25c2-4eba-9343-182d7d134599\n\textent [107.997917, -48.002083, 164.002083, -7.997917]\n\tgrid shape (9601, 13441)\n\tkeywords Australia, B series, Bouguer, EARTH SCIENCES, Earth sciences, GADDS2.0, NCI, None, Published_External, airborne, complete, digital data, geophysical survey, geophysics, geoscientificInformation, gradiometry, grav, gravity, grid, image, image, marine, raster, round, satellite, spherical cap, survey 202008, tilt\n",
     "output_type": "stream"
    }
   ]
  },
  {
   "cell_type": "code",
   "source": "",
   "metadata": {
    "trusted": true
   },
   "execution_count": null,
   "outputs": []
  }
 ]
}
